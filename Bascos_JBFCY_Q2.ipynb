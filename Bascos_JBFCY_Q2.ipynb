{
 "cells": [
  {
   "cell_type": "code",
   "execution_count": 13,
   "id": "8cdd9c6c",
   "metadata": {},
   "outputs": [],
   "source": [
    "import os\n",
    "import pandas as pd\n",
    "import numpy as np\n",
    "import math\n",
    "import datetime as dt\n",
    "import matplotlib.pyplot as plt \n"
   ]
  },
  {
   "cell_type": "code",
   "execution_count": 14,
   "id": "544d9ecd",
   "metadata": {},
   "outputs": [],
   "source": [
    "data_set= pd.read_csv(\"JBFCY.csv\")"
   ]
  },
  {
   "cell_type": "code",
   "execution_count": 15,
   "id": "ec0fc370",
   "metadata": {},
   "outputs": [
    {
     "data": {
      "text/html": [
       "<div>\n",
       "<style scoped>\n",
       "    .dataframe tbody tr th:only-of-type {\n",
       "        vertical-align: middle;\n",
       "    }\n",
       "\n",
       "    .dataframe tbody tr th {\n",
       "        vertical-align: top;\n",
       "    }\n",
       "\n",
       "    .dataframe thead th {\n",
       "        text-align: right;\n",
       "    }\n",
       "</style>\n",
       "<table border=\"1\" class=\"dataframe\">\n",
       "  <thead>\n",
       "    <tr style=\"text-align: right;\">\n",
       "      <th></th>\n",
       "      <th>Date</th>\n",
       "      <th>Open</th>\n",
       "      <th>High</th>\n",
       "      <th>Low</th>\n",
       "      <th>Close</th>\n",
       "      <th>Adj Close</th>\n",
       "      <th>Volume</th>\n",
       "    </tr>\n",
       "  </thead>\n",
       "  <tbody>\n",
       "    <tr>\n",
       "      <th>0</th>\n",
       "      <td>2020-10-09</td>\n",
       "      <td>11.74</td>\n",
       "      <td>11.74</td>\n",
       "      <td>11.72</td>\n",
       "      <td>11.72</td>\n",
       "      <td>11.531006</td>\n",
       "      <td>900</td>\n",
       "    </tr>\n",
       "    <tr>\n",
       "      <th>1</th>\n",
       "      <td>2020-10-12</td>\n",
       "      <td>11.74</td>\n",
       "      <td>11.74</td>\n",
       "      <td>11.74</td>\n",
       "      <td>11.74</td>\n",
       "      <td>11.550684</td>\n",
       "      <td>200</td>\n",
       "    </tr>\n",
       "    <tr>\n",
       "      <th>2</th>\n",
       "      <td>2020-10-13</td>\n",
       "      <td>11.65</td>\n",
       "      <td>11.65</td>\n",
       "      <td>11.65</td>\n",
       "      <td>11.65</td>\n",
       "      <td>11.462135</td>\n",
       "      <td>600</td>\n",
       "    </tr>\n",
       "    <tr>\n",
       "      <th>3</th>\n",
       "      <td>2020-10-14</td>\n",
       "      <td>11.65</td>\n",
       "      <td>11.65</td>\n",
       "      <td>11.65</td>\n",
       "      <td>11.65</td>\n",
       "      <td>11.462135</td>\n",
       "      <td>0</td>\n",
       "    </tr>\n",
       "    <tr>\n",
       "      <th>4</th>\n",
       "      <td>2020-10-15</td>\n",
       "      <td>11.65</td>\n",
       "      <td>11.65</td>\n",
       "      <td>11.65</td>\n",
       "      <td>11.65</td>\n",
       "      <td>11.462135</td>\n",
       "      <td>100</td>\n",
       "    </tr>\n",
       "    <tr>\n",
       "      <th>...</th>\n",
       "      <td>...</td>\n",
       "      <td>...</td>\n",
       "      <td>...</td>\n",
       "      <td>...</td>\n",
       "      <td>...</td>\n",
       "      <td>...</td>\n",
       "      <td>...</td>\n",
       "    </tr>\n",
       "    <tr>\n",
       "      <th>498</th>\n",
       "      <td>2022-10-03</td>\n",
       "      <td>15.39</td>\n",
       "      <td>15.39</td>\n",
       "      <td>15.39</td>\n",
       "      <td>15.39</td>\n",
       "      <td>15.390000</td>\n",
       "      <td>300</td>\n",
       "    </tr>\n",
       "    <tr>\n",
       "      <th>499</th>\n",
       "      <td>2022-10-04</td>\n",
       "      <td>15.39</td>\n",
       "      <td>15.39</td>\n",
       "      <td>15.39</td>\n",
       "      <td>15.39</td>\n",
       "      <td>15.390000</td>\n",
       "      <td>0</td>\n",
       "    </tr>\n",
       "    <tr>\n",
       "      <th>500</th>\n",
       "      <td>2022-10-05</td>\n",
       "      <td>16.84</td>\n",
       "      <td>16.84</td>\n",
       "      <td>16.84</td>\n",
       "      <td>16.84</td>\n",
       "      <td>16.840000</td>\n",
       "      <td>300</td>\n",
       "    </tr>\n",
       "    <tr>\n",
       "      <th>501</th>\n",
       "      <td>2022-10-06</td>\n",
       "      <td>16.84</td>\n",
       "      <td>16.84</td>\n",
       "      <td>16.84</td>\n",
       "      <td>16.84</td>\n",
       "      <td>16.840000</td>\n",
       "      <td>0</td>\n",
       "    </tr>\n",
       "    <tr>\n",
       "      <th>502</th>\n",
       "      <td>2022-10-07</td>\n",
       "      <td>16.84</td>\n",
       "      <td>16.84</td>\n",
       "      <td>16.84</td>\n",
       "      <td>16.84</td>\n",
       "      <td>16.840000</td>\n",
       "      <td>0</td>\n",
       "    </tr>\n",
       "  </tbody>\n",
       "</table>\n",
       "<p>503 rows × 7 columns</p>\n",
       "</div>"
      ],
      "text/plain": [
       "           Date   Open   High    Low  Close  Adj Close  Volume\n",
       "0    2020-10-09  11.74  11.74  11.72  11.72  11.531006     900\n",
       "1    2020-10-12  11.74  11.74  11.74  11.74  11.550684     200\n",
       "2    2020-10-13  11.65  11.65  11.65  11.65  11.462135     600\n",
       "3    2020-10-14  11.65  11.65  11.65  11.65  11.462135       0\n",
       "4    2020-10-15  11.65  11.65  11.65  11.65  11.462135     100\n",
       "..          ...    ...    ...    ...    ...        ...     ...\n",
       "498  2022-10-03  15.39  15.39  15.39  15.39  15.390000     300\n",
       "499  2022-10-04  15.39  15.39  15.39  15.39  15.390000       0\n",
       "500  2022-10-05  16.84  16.84  16.84  16.84  16.840000     300\n",
       "501  2022-10-06  16.84  16.84  16.84  16.84  16.840000       0\n",
       "502  2022-10-07  16.84  16.84  16.84  16.84  16.840000       0\n",
       "\n",
       "[503 rows x 7 columns]"
      ]
     },
     "execution_count": 15,
     "metadata": {},
     "output_type": "execute_result"
    }
   ],
   "source": [
    "data_set"
   ]
  },
  {
   "cell_type": "code",
   "execution_count": 16,
   "id": "68841d46",
   "metadata": {},
   "outputs": [
    {
     "name": "stdout",
     "output_type": "stream",
     "text": [
      "<class 'pandas.core.frame.DataFrame'>\n",
      "RangeIndex: 503 entries, 0 to 502\n",
      "Data columns (total 7 columns):\n",
      " #   Column     Non-Null Count  Dtype  \n",
      "---  ------     --------------  -----  \n",
      " 0   Date       503 non-null    object \n",
      " 1   Open       503 non-null    float64\n",
      " 2   High       503 non-null    float64\n",
      " 3   Low        503 non-null    float64\n",
      " 4   Close      503 non-null    float64\n",
      " 5   Adj Close  503 non-null    float64\n",
      " 6   Volume     503 non-null    int64  \n",
      "dtypes: float64(5), int64(1), object(1)\n",
      "memory usage: 27.6+ KB\n"
     ]
    }
   ],
   "source": [
    "data_set.info()"
   ]
  },
  {
   "cell_type": "code",
   "execution_count": 17,
   "id": "dcd66d2c",
   "metadata": {},
   "outputs": [
    {
     "data": {
      "text/plain": [
       "(503, 7)"
      ]
     },
     "execution_count": 17,
     "metadata": {},
     "output_type": "execute_result"
    }
   ],
   "source": [
    "data_set.shape"
   ]
  },
  {
   "cell_type": "code",
   "execution_count": 21,
   "id": "4c6cb53b",
   "metadata": {},
   "outputs": [
    {
     "data": {
      "text/html": [
       "<div>\n",
       "<style scoped>\n",
       "    .dataframe tbody tr th:only-of-type {\n",
       "        vertical-align: middle;\n",
       "    }\n",
       "\n",
       "    .dataframe tbody tr th {\n",
       "        vertical-align: top;\n",
       "    }\n",
       "\n",
       "    .dataframe thead th {\n",
       "        text-align: right;\n",
       "    }\n",
       "</style>\n",
       "<table border=\"1\" class=\"dataframe\">\n",
       "  <thead>\n",
       "    <tr style=\"text-align: right;\">\n",
       "      <th></th>\n",
       "      <th>Date</th>\n",
       "      <th>Open</th>\n",
       "      <th>High</th>\n",
       "      <th>Low</th>\n",
       "      <th>Close</th>\n",
       "      <th>Adj Close</th>\n",
       "      <th>Volume</th>\n",
       "    </tr>\n",
       "  </thead>\n",
       "  <tbody>\n",
       "    <tr>\n",
       "      <th>0</th>\n",
       "      <td>2020-10-09</td>\n",
       "      <td>11.74</td>\n",
       "      <td>11.74</td>\n",
       "      <td>11.72</td>\n",
       "      <td>11.72</td>\n",
       "      <td>11.531006</td>\n",
       "      <td>900</td>\n",
       "    </tr>\n",
       "    <tr>\n",
       "      <th>1</th>\n",
       "      <td>2020-10-12</td>\n",
       "      <td>11.74</td>\n",
       "      <td>11.74</td>\n",
       "      <td>11.74</td>\n",
       "      <td>11.74</td>\n",
       "      <td>11.550684</td>\n",
       "      <td>200</td>\n",
       "    </tr>\n",
       "    <tr>\n",
       "      <th>2</th>\n",
       "      <td>2020-10-13</td>\n",
       "      <td>11.65</td>\n",
       "      <td>11.65</td>\n",
       "      <td>11.65</td>\n",
       "      <td>11.65</td>\n",
       "      <td>11.462135</td>\n",
       "      <td>600</td>\n",
       "    </tr>\n",
       "    <tr>\n",
       "      <th>3</th>\n",
       "      <td>2020-10-14</td>\n",
       "      <td>11.65</td>\n",
       "      <td>11.65</td>\n",
       "      <td>11.65</td>\n",
       "      <td>11.65</td>\n",
       "      <td>11.462135</td>\n",
       "      <td>0</td>\n",
       "    </tr>\n",
       "    <tr>\n",
       "      <th>4</th>\n",
       "      <td>2020-10-15</td>\n",
       "      <td>11.65</td>\n",
       "      <td>11.65</td>\n",
       "      <td>11.65</td>\n",
       "      <td>11.65</td>\n",
       "      <td>11.462135</td>\n",
       "      <td>100</td>\n",
       "    </tr>\n",
       "  </tbody>\n",
       "</table>\n",
       "</div>"
      ],
      "text/plain": [
       "        Date   Open   High    Low  Close  Adj Close  Volume\n",
       "0 2020-10-09  11.74  11.74  11.72  11.72  11.531006     900\n",
       "1 2020-10-12  11.74  11.74  11.74  11.74  11.550684     200\n",
       "2 2020-10-13  11.65  11.65  11.65  11.65  11.462135     600\n",
       "3 2020-10-14  11.65  11.65  11.65  11.65  11.462135       0\n",
       "4 2020-10-15  11.65  11.65  11.65  11.65  11.462135     100"
      ]
     },
     "execution_count": 21,
     "metadata": {},
     "output_type": "execute_result"
    }
   ],
   "source": [
    "data_set['Date'] = pd.to_datetime(data_set.Date)\n",
    "data_set.head()"
   ]
  },
  {
   "cell_type": "code",
   "execution_count": 23,
   "id": "dde70ab5",
   "metadata": {},
   "outputs": [
    {
     "data": {
      "text/html": [
       "<div>\n",
       "<style scoped>\n",
       "    .dataframe tbody tr th:only-of-type {\n",
       "        vertical-align: middle;\n",
       "    }\n",
       "\n",
       "    .dataframe tbody tr th {\n",
       "        vertical-align: top;\n",
       "    }\n",
       "\n",
       "    .dataframe thead th {\n",
       "        text-align: right;\n",
       "    }\n",
       "</style>\n",
       "<table border=\"1\" class=\"dataframe\">\n",
       "  <thead>\n",
       "    <tr style=\"text-align: right;\">\n",
       "      <th></th>\n",
       "      <th>Date</th>\n",
       "      <th>Open</th>\n",
       "      <th>High</th>\n",
       "      <th>Low</th>\n",
       "      <th>Close</th>\n",
       "      <th>Adj Close</th>\n",
       "      <th>Volume</th>\n",
       "    </tr>\n",
       "  </thead>\n",
       "  <tbody>\n",
       "    <tr>\n",
       "      <th>0</th>\n",
       "      <td>2020-10-09</td>\n",
       "      <td>11.74</td>\n",
       "      <td>11.74</td>\n",
       "      <td>11.72</td>\n",
       "      <td>11.72</td>\n",
       "      <td>11.531006</td>\n",
       "      <td>900</td>\n",
       "    </tr>\n",
       "    <tr>\n",
       "      <th>1</th>\n",
       "      <td>2020-10-12</td>\n",
       "      <td>11.74</td>\n",
       "      <td>11.74</td>\n",
       "      <td>11.74</td>\n",
       "      <td>11.74</td>\n",
       "      <td>11.550684</td>\n",
       "      <td>200</td>\n",
       "    </tr>\n",
       "    <tr>\n",
       "      <th>2</th>\n",
       "      <td>2020-10-13</td>\n",
       "      <td>11.65</td>\n",
       "      <td>11.65</td>\n",
       "      <td>11.65</td>\n",
       "      <td>11.65</td>\n",
       "      <td>11.462135</td>\n",
       "      <td>600</td>\n",
       "    </tr>\n",
       "    <tr>\n",
       "      <th>3</th>\n",
       "      <td>2020-10-14</td>\n",
       "      <td>11.65</td>\n",
       "      <td>11.65</td>\n",
       "      <td>11.65</td>\n",
       "      <td>11.65</td>\n",
       "      <td>11.462135</td>\n",
       "      <td>0</td>\n",
       "    </tr>\n",
       "    <tr>\n",
       "      <th>4</th>\n",
       "      <td>2020-10-15</td>\n",
       "      <td>11.65</td>\n",
       "      <td>11.65</td>\n",
       "      <td>11.65</td>\n",
       "      <td>11.65</td>\n",
       "      <td>11.462135</td>\n",
       "      <td>100</td>\n",
       "    </tr>\n",
       "  </tbody>\n",
       "</table>\n",
       "</div>"
      ],
      "text/plain": [
       "        Date   Open   High    Low  Close  Adj Close  Volume\n",
       "0 2020-10-09  11.74  11.74  11.72  11.72  11.531006     900\n",
       "1 2020-10-12  11.74  11.74  11.74  11.74  11.550684     200\n",
       "2 2020-10-13  11.65  11.65  11.65  11.65  11.462135     600\n",
       "3 2020-10-14  11.65  11.65  11.65  11.65  11.462135       0\n",
       "4 2020-10-15  11.65  11.65  11.65  11.65  11.462135     100"
      ]
     },
     "execution_count": 23,
     "metadata": {},
     "output_type": "execute_result"
    }
   ],
   "source": [
    "data_set.sort_values(by='Date', inplace=True)\n",
    "data_set.head()"
   ]
  },
  {
   "cell_type": "code",
   "execution_count": 24,
   "id": "d82c5e9e",
   "metadata": {},
   "outputs": [],
   "source": [
    "def timeseries (x_axis, y_axis, y_axis2, y_axis3, y_axis4, x_label):\n",
    "    plt.figure(figsize = (20, 12))\n",
    "    plt.title('Stock Price Chart',{'fontsize': 24})\n",
    "    plt.plot(x_axis, y_axis,  '-y', label = 'Open',)\n",
    "    plt.plot(x_axis, y_axis2, '-b', label = 'Close')\n",
    "    plt.plot(x_axis, y_axis3, '--g', label = 'High')\n",
    "    plt.plot(x_axis, y_axis4, '--r', label = 'Low')\n",
    "    plt.xlabel(x_label, {'fontsize': 15}) \n",
    "    plt.ylabel('Stock Price Movement', {'fontsize': 15})\n",
    "    plt.legend(fontsize=20)"
   ]
  },
  {
   "cell_type": "code",
   "execution_count": 9,
   "id": "7fd474af",
   "metadata": {},
   "outputs": [
    {
     "data": {
      "image/png": "[encoded data removed]",
      "text/plain": [
       "<Figure size 1440x864 with 1 Axes>"
      ]
     },
     "metadata": {
      "needs_background": "light"
     },
     "output_type": "display_data"
    }
   ],
   "source": [
    "data_frame = data_set.copy()\n",
    "timeseries(data_set.index, data_frame['Open'],data_frame['Close'], data_frame['High'],data_frame['Low'], 'Time (day)')"
   ]
  },
  {
   "cell_type": "code",
   "execution_count": 34,
   "id": "e0d28be8",
   "metadata": {},
   "outputs": [
    {
     "name": "stdout",
     "output_type": "stream",
     "text": [
      "Shape of close dataframe: (503, 2)\n"
     ]
    },
    {
     "data": {
      "text/html": [
       "<div>\n",
       "<style scoped>\n",
       "    .dataframe tbody tr th:only-of-type {\n",
       "        vertical-align: middle;\n",
       "    }\n",
       "\n",
       "    .dataframe tbody tr th {\n",
       "        vertical-align: top;\n",
       "    }\n",
       "\n",
       "    .dataframe thead th {\n",
       "        text-align: right;\n",
       "    }\n",
       "</style>\n",
       "<table border=\"1\" class=\"dataframe\">\n",
       "  <thead>\n",
       "    <tr style=\"text-align: right;\">\n",
       "      <th></th>\n",
       "      <th>Date</th>\n",
       "      <th>Close</th>\n",
       "    </tr>\n",
       "  </thead>\n",
       "  <tbody>\n",
       "    <tr>\n",
       "      <th>0</th>\n",
       "      <td>2020-10-09</td>\n",
       "      <td>11.72</td>\n",
       "    </tr>\n",
       "    <tr>\n",
       "      <th>1</th>\n",
       "      <td>2020-10-12</td>\n",
       "      <td>11.74</td>\n",
       "    </tr>\n",
       "    <tr>\n",
       "      <th>2</th>\n",
       "      <td>2020-10-13</td>\n",
       "      <td>11.65</td>\n",
       "    </tr>\n",
       "    <tr>\n",
       "      <th>3</th>\n",
       "      <td>2020-10-14</td>\n",
       "      <td>11.65</td>\n",
       "    </tr>\n",
       "    <tr>\n",
       "      <th>4</th>\n",
       "      <td>2020-10-15</td>\n",
       "      <td>11.65</td>\n",
       "    </tr>\n",
       "    <tr>\n",
       "      <th>...</th>\n",
       "      <td>...</td>\n",
       "      <td>...</td>\n",
       "    </tr>\n",
       "    <tr>\n",
       "      <th>498</th>\n",
       "      <td>2022-10-03</td>\n",
       "      <td>15.39</td>\n",
       "    </tr>\n",
       "    <tr>\n",
       "      <th>499</th>\n",
       "      <td>2022-10-04</td>\n",
       "      <td>15.39</td>\n",
       "    </tr>\n",
       "    <tr>\n",
       "      <th>500</th>\n",
       "      <td>2022-10-05</td>\n",
       "      <td>16.84</td>\n",
       "    </tr>\n",
       "    <tr>\n",
       "      <th>501</th>\n",
       "      <td>2022-10-06</td>\n",
       "      <td>16.84</td>\n",
       "    </tr>\n",
       "    <tr>\n",
       "      <th>502</th>\n",
       "      <td>2022-10-07</td>\n",
       "      <td>16.84</td>\n",
       "    </tr>\n",
       "  </tbody>\n",
       "</table>\n",
       "<p>503 rows × 2 columns</p>\n",
       "</div>"
      ],
      "text/plain": [
       "          Date  Close\n",
       "0   2020-10-09  11.72\n",
       "1   2020-10-12  11.74\n",
       "2   2020-10-13  11.65\n",
       "3   2020-10-14  11.65\n",
       "4   2020-10-15  11.65\n",
       "..         ...    ...\n",
       "498 2022-10-03  15.39\n",
       "499 2022-10-04  15.39\n",
       "500 2022-10-05  16.84\n",
       "501 2022-10-06  16.84\n",
       "502 2022-10-07  16.84\n",
       "\n",
       "[503 rows x 2 columns]"
      ]
     },
     "execution_count": 34,
     "metadata": {},
     "output_type": "execute_result"
    }
   ],
   "source": [
    "data_set_close = data_set[['Date','Close']]\n",
    "print(\"Shape of close dataframe:\", data_set_close.shape)\n",
    "data_set_close"
   ]
  },
  {
   "cell_type": "code",
   "execution_count": 35,
   "id": "01971c6f",
   "metadata": {},
   "outputs": [],
   "source": [
    "del data_set_close['Date']\n"
   ]
  },
  {
   "cell_type": "code",
   "execution_count": 36,
   "id": "cf9f3221",
   "metadata": {},
   "outputs": [
    {
     "name": "stdout",
     "output_type": "stream",
     "text": [
      "(503, 1)\n"
     ]
    }
   ],
   "source": [
    "scaler=MinMaxScaler(feature_range=(0,1))\n",
    "data_set_close=scaler.fit_transform(np.array(data_set_close).reshape(-1,1))\n",
    "print(data_set_close.shape)"
   ]
  },
  {
   "cell_type": "code",
   "execution_count": 37,
   "id": "2a3c3b96",
   "metadata": {},
   "outputs": [
    {
     "name": "stdout",
     "output_type": "stream",
     "text": [
      "train_data:  (402, 1)\n",
      "test_data:  (101, 1)\n"
     ]
    }
   ],
   "source": [
    "training_size=int(len(data_set_close)*0.8)\n",
    "test_size=len(data_set_close)-training_size\n",
    "train_data,test_data=data_set_close[0:training_size,:],data_set_close[training_size:len(data_set_close),:1]\n",
    "print(\"train_data: \", train_data.shape)\n",
    "print(\"test_data: \", test_data.shape)"
   ]
  },
  {
   "cell_type": "code",
   "execution_count": 66,
   "id": "e563e0d0",
   "metadata": {},
   "outputs": [
    {
     "name": "stdout",
     "output_type": "stream",
     "text": [
      "X_train:  (386, 15)\n",
      "y_train:  (386, 1)\n",
      "X_test:  (85, 15)\n",
      "y_test (85, 1)\n"
     ]
    }
   ],
   "source": [
    "def create_dataset (X, look_back = 1):\n",
    "    Xs, ys = [], []\n",
    "    \n",
    "    for i in range(len(X)-look_back-1):\n",
    "        v = X[i:(i+look_back),0]\n",
    "        Xs.append(v)\n",
    "        ys.append(X[i+look_back])\n",
    "        \n",
    "    return np.array(Xs), np.array(ys)\n",
    "\n",
    "X_train, y_train = create_dataset(train_data,15)\n",
    "X_test, y_test = create_dataset(test_data,15)\n",
    "print(\"X_train: \", X_train.shape)\n",
    "print(\"y_train: \", y_train.shape)\n",
    "print(\"X_test: \", X_test.shape)\n",
    "print(\"y_test\", y_test.shape)"
   ]
  },
  {
   "cell_type": "code",
   "execution_count": 94,
   "id": "18667bbe",
   "metadata": {},
   "outputs": [
    {
     "name": "stdout",
     "output_type": "stream",
     "text": [
      "Epoch 1/400\n",
      "77/77 [==============================] - 4s 15ms/step - loss: 79.2099 - val_loss: 17.2475\n",
      "Epoch 2/400\n",
      "77/77 [==============================] - 0s 5ms/step - loss: 4.5810 - val_loss: 4.7438\n",
      "Epoch 3/400\n",
      "77/77 [==============================] - 0s 5ms/step - loss: 3.3965 - val_loss: 2.8905\n",
      "Epoch 4/400\n",
      "77/77 [==============================] - 0s 5ms/step - loss: 3.6023 - val_loss: 2.5820\n",
      "Epoch 5/400\n",
      "77/77 [==============================] - 0s 5ms/step - loss: 3.4205 - val_loss: 2.6612\n",
      "Epoch 6/400\n",
      "77/77 [==============================] - 0s 5ms/step - loss: 3.5718 - val_loss: 2.7092\n",
      "Epoch 7/400\n",
      "77/77 [==============================] - 0s 5ms/step - loss: 3.3633 - val_loss: 2.6349\n",
      "Epoch 8/400\n",
      "77/77 [==============================] - 0s 6ms/step - loss: 3.2506 - val_loss: 2.9619\n",
      "Epoch 9/400\n",
      "77/77 [==============================] - 0s 5ms/step - loss: 3.1688 - val_loss: 2.4618\n",
      "Epoch 10/400\n",
      "77/77 [==============================] - 0s 6ms/step - loss: 3.5390 - val_loss: 2.5547\n",
      "Epoch 11/400\n",
      "77/77 [==============================] - 0s 5ms/step - loss: 3.5317 - val_loss: 2.4160\n",
      "Epoch 12/400\n",
      "77/77 [==============================] - 0s 6ms/step - loss: 3.6005 - val_loss: 2.4752\n",
      "Epoch 13/400\n",
      "77/77 [==============================] - 0s 5ms/step - loss: 3.6895 - val_loss: 2.3022\n",
      "Epoch 14/400\n",
      "77/77 [==============================] - 0s 5ms/step - loss: 3.4815 - val_loss: 2.7230\n",
      "Epoch 15/400\n",
      "77/77 [==============================] - 0s 5ms/step - loss: 3.5779 - val_loss: 2.5119\n",
      "Epoch 16/400\n",
      "77/77 [==============================] - 0s 5ms/step - loss: 3.6354 - val_loss: 2.7505\n",
      "Epoch 17/400\n",
      "77/77 [==============================] - 0s 5ms/step - loss: 3.4697 - val_loss: 2.3503\n",
      "Epoch 18/400\n",
      "77/77 [==============================] - 0s 5ms/step - loss: 3.2235 - val_loss: 2.4532\n",
      "Epoch 19/400\n",
      "77/77 [==============================] - 0s 5ms/step - loss: 2.9844 - val_loss: 2.2823\n",
      "Epoch 20/400\n",
      "77/77 [==============================] - 0s 5ms/step - loss: 3.4985 - val_loss: 2.1905\n",
      "Epoch 21/400\n",
      "77/77 [==============================] - 0s 6ms/step - loss: 3.5748 - val_loss: 2.4302\n",
      "Epoch 22/400\n",
      "77/77 [==============================] - 0s 5ms/step - loss: 3.4407 - val_loss: 2.4256\n",
      "Epoch 23/400\n",
      "77/77 [==============================] - 0s 5ms/step - loss: 3.6996 - val_loss: 2.4349\n",
      "Epoch 24/400\n",
      "77/77 [==============================] - 0s 5ms/step - loss: 3.3986 - val_loss: 2.3729\n",
      "Epoch 25/400\n",
      "77/77 [==============================] - 0s 5ms/step - loss: 3.3754 - val_loss: 2.2509\n",
      "Epoch 26/400\n",
      "77/77 [==============================] - 0s 6ms/step - loss: 3.3217 - val_loss: 2.3332\n",
      "Epoch 27/400\n",
      "77/77 [==============================] - 0s 5ms/step - loss: 3.2877 - val_loss: 2.4744\n",
      "Epoch 28/400\n",
      "77/77 [==============================] - 0s 5ms/step - loss: 3.3703 - val_loss: 2.6545\n",
      "Epoch 29/400\n",
      "77/77 [==============================] - 0s 5ms/step - loss: 3.5247 - val_loss: 2.5418\n",
      "Epoch 30/400\n",
      "77/77 [==============================] - 0s 5ms/step - loss: 3.0850 - val_loss: 2.3390\n",
      "Epoch 31/400\n",
      "77/77 [==============================] - 0s 5ms/step - loss: 3.8927 - val_loss: 2.2330\n",
      "Epoch 32/400\n",
      "77/77 [==============================] - 0s 6ms/step - loss: 3.5044 - val_loss: 2.1112\n",
      "Epoch 33/400\n",
      "77/77 [==============================] - 0s 5ms/step - loss: 3.5706 - val_loss: 2.4482\n",
      "Epoch 34/400\n",
      "77/77 [==============================] - 0s 5ms/step - loss: 3.6208 - val_loss: 2.4871\n",
      "Epoch 35/400\n",
      "77/77 [==============================] - 0s 5ms/step - loss: 3.2427 - val_loss: 2.4869\n",
      "Epoch 36/400\n",
      "77/77 [==============================] - 0s 5ms/step - loss: 3.3810 - val_loss: 2.3915\n",
      "Epoch 37/400\n",
      "77/77 [==============================] - 0s 5ms/step - loss: 3.6626 - val_loss: 2.4118\n",
      "Epoch 38/400\n",
      "77/77 [==============================] - 0s 5ms/step - loss: 3.3523 - val_loss: 2.4675\n",
      "Epoch 39/400\n",
      "77/77 [==============================] - 0s 5ms/step - loss: 3.6315 - val_loss: 2.3761\n",
      "Epoch 40/400\n",
      "77/77 [==============================] - 0s 5ms/step - loss: 3.7987 - val_loss: 2.4337\n",
      "Epoch 41/400\n",
      "77/77 [==============================] - 0s 5ms/step - loss: 3.5619 - val_loss: 2.2984\n",
      "Epoch 42/400\n",
      "77/77 [==============================] - 0s 5ms/step - loss: 3.7086 - val_loss: 2.1637\n",
      "Epoch 43/400\n",
      "77/77 [==============================] - 0s 5ms/step - loss: 3.7742 - val_loss: 2.4247\n",
      "Epoch 44/400\n",
      "77/77 [==============================] - 0s 5ms/step - loss: 3.4219 - val_loss: 2.1857\n",
      "Epoch 45/400\n",
      "77/77 [==============================] - 0s 5ms/step - loss: 3.4374 - val_loss: 2.4215\n",
      "Epoch 46/400\n",
      "77/77 [==============================] - 0s 5ms/step - loss: 3.5722 - val_loss: 2.0867\n",
      "Epoch 47/400\n",
      "77/77 [==============================] - 0s 6ms/step - loss: 3.9985 - val_loss: 2.1785\n",
      "Epoch 48/400\n",
      "77/77 [==============================] - 0s 5ms/step - loss: 3.6218 - val_loss: 2.4306\n",
      "Epoch 49/400\n",
      "77/77 [==============================] - 0s 5ms/step - loss: 3.6246 - val_loss: 2.1379\n",
      "Epoch 50/400\n",
      "77/77 [==============================] - 0s 5ms/step - loss: 3.5950 - val_loss: 2.2394\n",
      "Epoch 51/400\n",
      "77/77 [==============================] - 0s 6ms/step - loss: 3.3701 - val_loss: 2.6465\n",
      "Epoch 52/400\n",
      "77/77 [==============================] - 0s 5ms/step - loss: 3.6281 - val_loss: 2.4287\n",
      "Epoch 53/400\n",
      "77/77 [==============================] - 0s 5ms/step - loss: 3.7770 - val_loss: 2.4279\n",
      "Epoch 54/400\n",
      "77/77 [==============================] - 0s 5ms/step - loss: 3.6285 - val_loss: 1.9875\n",
      "Epoch 55/400\n",
      "77/77 [==============================] - 0s 5ms/step - loss: 3.3980 - val_loss: 2.1994\n",
      "Epoch 56/400\n",
      "77/77 [==============================] - 0s 5ms/step - loss: 3.1680 - val_loss: 2.3242\n",
      "Epoch 57/400\n",
      "77/77 [==============================] - 0s 5ms/step - loss: 3.3832 - val_loss: 2.2890\n",
      "Epoch 58/400\n",
      "77/77 [==============================] - 0s 5ms/step - loss: 3.5791 - val_loss: 2.2377\n",
      "Epoch 59/400\n",
      "77/77 [==============================] - 0s 5ms/step - loss: 3.0204 - val_loss: 2.3285\n",
      "Epoch 60/400\n",
      "77/77 [==============================] - 0s 5ms/step - loss: 3.6311 - val_loss: 2.4439\n",
      "Epoch 61/400\n",
      "77/77 [==============================] - 0s 5ms/step - loss: 3.2061 - val_loss: 2.2673\n",
      "Epoch 62/400\n",
      "77/77 [==============================] - 0s 5ms/step - loss: 3.4500 - val_loss: 2.4834\n",
      "Epoch 63/400\n",
      "77/77 [==============================] - 0s 5ms/step - loss: 3.1214 - val_loss: 2.2210\n",
      "Epoch 64/400\n",
      "77/77 [==============================] - 0s 5ms/step - loss: 3.5206 - val_loss: 2.5676\n",
      "Epoch 65/400\n",
      "77/77 [==============================] - 0s 5ms/step - loss: 3.4405 - val_loss: 2.5871\n",
      "Epoch 66/400\n",
      "77/77 [==============================] - 0s 5ms/step - loss: 2.9434 - val_loss: 2.4459\n",
      "Epoch 67/400\n",
      "77/77 [==============================] - 0s 6ms/step - loss: 3.8100 - val_loss: 2.2162\n",
      "Epoch 68/400\n",
      "77/77 [==============================] - 0s 6ms/step - loss: 3.0721 - val_loss: 2.0972\n",
      "Epoch 69/400\n",
      "77/77 [==============================] - 0s 6ms/step - loss: 3.4318 - val_loss: 2.2251\n",
      "Epoch 70/400\n",
      "77/77 [==============================] - 0s 5ms/step - loss: 3.2312 - val_loss: 2.8243\n",
      "Epoch 71/400\n",
      "77/77 [==============================] - 0s 5ms/step - loss: 3.3226 - val_loss: 2.3749\n",
      "Epoch 72/400\n",
      "77/77 [==============================] - 0s 6ms/step - loss: 3.2776 - val_loss: 2.4046\n",
      "Epoch 73/400\n",
      "77/77 [==============================] - 0s 5ms/step - loss: 3.1930 - val_loss: 2.4789\n",
      "Epoch 74/400\n",
      "77/77 [==============================] - 0s 5ms/step - loss: 3.4994 - val_loss: 2.3873\n",
      "Epoch 75/400\n",
      "77/77 [==============================] - 0s 5ms/step - loss: 3.7220 - val_loss: 2.4358\n",
      "Epoch 76/400\n",
      "77/77 [==============================] - 0s 5ms/step - loss: 3.5361 - val_loss: 2.3325\n",
      "Epoch 77/400\n",
      "77/77 [==============================] - 0s 5ms/step - loss: 3.6679 - val_loss: 2.3772\n",
      "Epoch 78/400\n",
      "77/77 [==============================] - 0s 5ms/step - loss: 3.4778 - val_loss: 2.2206\n",
      "Epoch 79/400\n",
      "77/77 [==============================] - 0s 5ms/step - loss: 3.6176 - val_loss: 2.3514\n",
      "Epoch 80/400\n",
      "77/77 [==============================] - 0s 5ms/step - loss: 3.3617 - val_loss: 2.4819\n",
      "Epoch 81/400\n",
      "77/77 [==============================] - 0s 5ms/step - loss: 3.5907 - val_loss: 2.1838\n",
      "Epoch 82/400\n",
      "77/77 [==============================] - 0s 6ms/step - loss: 3.7018 - val_loss: 2.5301\n",
      "Epoch 83/400\n",
      "77/77 [==============================] - 0s 5ms/step - loss: 3.3343 - val_loss: 2.2949\n",
      "Epoch 84/400\n",
      "77/77 [==============================] - 0s 5ms/step - loss: 3.4080 - val_loss: 2.3253\n",
      "Epoch 85/400\n",
      "77/77 [==============================] - 0s 6ms/step - loss: 3.5787 - val_loss: 2.1658\n",
      "Epoch 86/400\n",
      "77/77 [==============================] - 0s 6ms/step - loss: 3.3387 - val_loss: 2.5035\n",
      "Epoch 87/400\n",
      "77/77 [==============================] - 0s 6ms/step - loss: 3.2593 - val_loss: 2.1994\n",
      "Epoch 88/400\n",
      "77/77 [==============================] - 0s 6ms/step - loss: 3.7932 - val_loss: 2.3973\n",
      "Epoch 89/400\n",
      "77/77 [==============================] - 0s 6ms/step - loss: 3.5974 - val_loss: 2.2228\n",
      "Epoch 90/400\n",
      "77/77 [==============================] - 0s 6ms/step - loss: 3.3335 - val_loss: 2.3876\n",
      "Epoch 91/400\n",
      "77/77 [==============================] - 0s 6ms/step - loss: 3.3868 - val_loss: 2.6038\n",
      "Epoch 92/400\n",
      "77/77 [==============================] - 0s 5ms/step - loss: 3.4770 - val_loss: 2.3647\n",
      "Epoch 93/400\n",
      "77/77 [==============================] - 0s 5ms/step - loss: 3.4885 - val_loss: 2.3988\n",
      "Epoch 94/400\n",
      "77/77 [==============================] - 0s 5ms/step - loss: 3.4878 - val_loss: 2.4488\n",
      "Epoch 95/400\n",
      "77/77 [==============================] - 0s 5ms/step - loss: 3.3794 - val_loss: 2.2580\n",
      "Epoch 96/400\n",
      "77/77 [==============================] - 0s 6ms/step - loss: 3.6521 - val_loss: 2.2590\n",
      "Epoch 97/400\n",
      "77/77 [==============================] - 0s 6ms/step - loss: 3.5768 - val_loss: 2.5552\n",
      "Epoch 98/400\n",
      "77/77 [==============================] - 0s 6ms/step - loss: 3.2313 - val_loss: 2.0798\n",
      "Epoch 99/400\n",
      "77/77 [==============================] - 0s 6ms/step - loss: 4.0385 - val_loss: 1.7984\n",
      "Epoch 100/400\n",
      "77/77 [==============================] - 0s 6ms/step - loss: 3.6581 - val_loss: 1.8847\n",
      "Epoch 101/400\n",
      "77/77 [==============================] - 0s 5ms/step - loss: 3.7249 - val_loss: 2.2674\n",
      "Epoch 102/400\n",
      "77/77 [==============================] - 0s 6ms/step - loss: 3.7614 - val_loss: 2.2440\n",
      "Epoch 103/400\n",
      "77/77 [==============================] - 0s 6ms/step - loss: 3.3178 - val_loss: 2.6281\n",
      "Epoch 104/400\n",
      "77/77 [==============================] - 0s 6ms/step - loss: 3.1741 - val_loss: 2.0758\n",
      "Epoch 105/400\n",
      "77/77 [==============================] - 0s 6ms/step - loss: 3.4173 - val_loss: 2.2197\n",
      "Epoch 106/400\n",
      "77/77 [==============================] - 0s 6ms/step - loss: 3.6927 - val_loss: 2.3303\n",
      "Epoch 107/400\n",
      "77/77 [==============================] - 1s 9ms/step - loss: 3.2718 - val_loss: 2.1326\n",
      "Epoch 108/400\n",
      "77/77 [==============================] - 0s 5ms/step - loss: 3.3761 - val_loss: 2.4966\n",
      "Epoch 109/400\n",
      "77/77 [==============================] - 0s 6ms/step - loss: 3.3928 - val_loss: 1.7553\n",
      "Epoch 110/400\n",
      "77/77 [==============================] - 0s 5ms/step - loss: 2.6747 - val_loss: 1.2129\n",
      "Epoch 111/400\n",
      "77/77 [==============================] - 1s 7ms/step - loss: 2.8792 - val_loss: 1.1992\n",
      "Epoch 112/400\n",
      "77/77 [==============================] - 1s 7ms/step - loss: 2.8464 - val_loss: 1.1380\n",
      "Epoch 113/400\n",
      "77/77 [==============================] - 0s 6ms/step - loss: 2.6564 - val_loss: 1.1510\n",
      "Epoch 114/400\n",
      "77/77 [==============================] - 1s 8ms/step - loss: 2.2746 - val_loss: 1.0244\n",
      "Epoch 115/400\n",
      "77/77 [==============================] - 1s 7ms/step - loss: 3.2044 - val_loss: 1.1369\n",
      "Epoch 116/400\n",
      "77/77 [==============================] - 0s 6ms/step - loss: 2.4682 - val_loss: 0.8434\n",
      "Epoch 117/400\n",
      "77/77 [==============================] - 0s 6ms/step - loss: 2.0821 - val_loss: 0.8705\n",
      "Epoch 118/400\n",
      "77/77 [==============================] - 0s 5ms/step - loss: 2.1346 - val_loss: 0.8450\n",
      "Epoch 119/400\n",
      "77/77 [==============================] - 0s 6ms/step - loss: 1.4998 - val_loss: 0.6951\n",
      "Epoch 120/400\n",
      "77/77 [==============================] - 0s 6ms/step - loss: 1.7232 - val_loss: 0.5947\n",
      "Epoch 121/400\n",
      "77/77 [==============================] - 0s 6ms/step - loss: 1.5671 - val_loss: 0.4964\n",
      "Epoch 122/400\n",
      "77/77 [==============================] - 0s 6ms/step - loss: 1.4053 - val_loss: 0.5059\n",
      "Epoch 123/400\n",
      "77/77 [==============================] - 0s 6ms/step - loss: 1.6868 - val_loss: 0.3942\n",
      "Epoch 124/400\n",
      "77/77 [==============================] - 1s 7ms/step - loss: 1.6265 - val_loss: 0.3569\n",
      "Epoch 125/400\n",
      "77/77 [==============================] - 0s 6ms/step - loss: 1.4029 - val_loss: 0.3517\n",
      "Epoch 126/400\n",
      "77/77 [==============================] - 0s 6ms/step - loss: 1.5621 - val_loss: 0.3153\n",
      "Epoch 127/400\n",
      "77/77 [==============================] - 1s 7ms/step - loss: 1.3390 - val_loss: 0.2963\n",
      "Epoch 128/400\n",
      "77/77 [==============================] - 0s 6ms/step - loss: 1.5863 - val_loss: 0.2730\n",
      "Epoch 129/400\n",
      "77/77 [==============================] - 0s 5ms/step - loss: 1.3277 - val_loss: 0.2772\n",
      "Epoch 130/400\n",
      "77/77 [==============================] - 0s 6ms/step - loss: 1.5085 - val_loss: 0.2391\n",
      "Epoch 131/400\n",
      "77/77 [==============================] - 0s 6ms/step - loss: 1.3530 - val_loss: 0.2256\n",
      "Epoch 132/400\n",
      "77/77 [==============================] - 0s 6ms/step - loss: 1.5557 - val_loss: 0.3586\n",
      "Epoch 133/400\n",
      "77/77 [==============================] - 0s 5ms/step - loss: 1.5507 - val_loss: 0.2267\n",
      "Epoch 134/400\n",
      "77/77 [==============================] - 0s 5ms/step - loss: 1.4026 - val_loss: 0.2183\n",
      "Epoch 135/400\n",
      "77/77 [==============================] - 0s 5ms/step - loss: 1.3689 - val_loss: 0.2342\n",
      "Epoch 136/400\n",
      "77/77 [==============================] - 0s 5ms/step - loss: 1.3346 - val_loss: 0.3008\n",
      "Epoch 137/400\n",
      "77/77 [==============================] - 0s 5ms/step - loss: 1.2768 - val_loss: 0.2478\n",
      "Epoch 138/400\n",
      "77/77 [==============================] - 0s 5ms/step - loss: 1.2819 - val_loss: 0.2270\n",
      "Epoch 139/400\n",
      "77/77 [==============================] - 0s 5ms/step - loss: 1.3409 - val_loss: 0.2519\n",
      "Epoch 140/400\n",
      "77/77 [==============================] - 0s 5ms/step - loss: 1.3437 - val_loss: 0.3051\n",
      "Epoch 141/400\n",
      "77/77 [==============================] - 0s 6ms/step - loss: 1.3511 - val_loss: 0.1938\n",
      "Epoch 142/400\n",
      "77/77 [==============================] - 0s 6ms/step - loss: 1.2212 - val_loss: 0.2598\n",
      "Epoch 143/400\n",
      "77/77 [==============================] - 0s 5ms/step - loss: 1.2546 - val_loss: 0.1938\n",
      "Epoch 144/400\n",
      "77/77 [==============================] - 0s 5ms/step - loss: 1.2125 - val_loss: 0.1867\n",
      "Epoch 145/400\n",
      "77/77 [==============================] - 0s 5ms/step - loss: 1.5771 - val_loss: 0.2637\n",
      "Epoch 146/400\n",
      "77/77 [==============================] - 0s 5ms/step - loss: 1.3334 - val_loss: 0.1818\n",
      "Epoch 147/400\n",
      "77/77 [==============================] - 0s 6ms/step - loss: 1.4105 - val_loss: 0.2651\n",
      "Epoch 148/400\n",
      "77/77 [==============================] - 0s 6ms/step - loss: 1.2662 - val_loss: 0.1913\n",
      "Epoch 149/400\n",
      "77/77 [==============================] - 0s 6ms/step - loss: 1.3291 - val_loss: 0.3077\n",
      "Epoch 150/400\n",
      "77/77 [==============================] - 0s 6ms/step - loss: 1.3098 - val_loss: 0.1818\n",
      "Epoch 151/400\n",
      "77/77 [==============================] - 0s 5ms/step - loss: 1.5090 - val_loss: 0.2388\n",
      "Epoch 152/400\n",
      "77/77 [==============================] - 0s 6ms/step - loss: 1.4272 - val_loss: 0.1619\n",
      "Epoch 153/400\n",
      "77/77 [==============================] - 0s 6ms/step - loss: 1.1717 - val_loss: 0.2430\n",
      "Epoch 154/400\n",
      "77/77 [==============================] - 0s 6ms/step - loss: 1.2947 - val_loss: 0.1564\n",
      "Epoch 155/400\n",
      "77/77 [==============================] - 0s 6ms/step - loss: 1.3375 - val_loss: 0.1860\n",
      "Epoch 156/400\n",
      "77/77 [==============================] - 0s 6ms/step - loss: 1.2892 - val_loss: 0.1702\n",
      "Epoch 157/400\n",
      "77/77 [==============================] - 0s 6ms/step - loss: 1.4511 - val_loss: 0.1666\n",
      "Epoch 158/400\n",
      "77/77 [==============================] - 0s 6ms/step - loss: 1.3309 - val_loss: 0.1910\n",
      "Epoch 159/400\n",
      "77/77 [==============================] - 0s 6ms/step - loss: 1.3162 - val_loss: 0.1697\n",
      "Epoch 160/400\n",
      "77/77 [==============================] - 0s 6ms/step - loss: 1.3972 - val_loss: 0.1984\n",
      "Epoch 161/400\n",
      "77/77 [==============================] - 0s 6ms/step - loss: 1.3969 - val_loss: 0.1960\n",
      "Epoch 162/400\n",
      "77/77 [==============================] - 0s 6ms/step - loss: 1.2207 - val_loss: 0.1610\n",
      "Epoch 163/400\n",
      "77/77 [==============================] - 0s 6ms/step - loss: 1.4744 - val_loss: 0.2981\n",
      "Epoch 164/400\n",
      "77/77 [==============================] - 0s 5ms/step - loss: 1.2644 - val_loss: 0.2851\n",
      "Epoch 165/400\n",
      "77/77 [==============================] - 0s 5ms/step - loss: 1.3743 - val_loss: 0.1732\n",
      "Epoch 166/400\n",
      "77/77 [==============================] - 0s 5ms/step - loss: 1.1981 - val_loss: 0.2792\n",
      "Epoch 167/400\n",
      "77/77 [==============================] - 0s 6ms/step - loss: 1.3965 - val_loss: 0.4040\n",
      "Epoch 168/400\n",
      "77/77 [==============================] - 0s 5ms/step - loss: 1.3028 - val_loss: 0.1759\n",
      "Epoch 169/400\n",
      "77/77 [==============================] - 0s 5ms/step - loss: 1.1849 - val_loss: 0.1578\n",
      "Epoch 170/400\n",
      "77/77 [==============================] - 0s 6ms/step - loss: 1.2446 - val_loss: 0.1474\n",
      "Epoch 171/400\n",
      "77/77 [==============================] - 0s 5ms/step - loss: 1.3082 - val_loss: 0.1630\n",
      "Epoch 172/400\n",
      "77/77 [==============================] - 0s 5ms/step - loss: 1.2601 - val_loss: 0.2078\n",
      "Epoch 173/400\n",
      "77/77 [==============================] - 0s 5ms/step - loss: 1.3432 - val_loss: 0.1466\n",
      "Epoch 174/400\n",
      "77/77 [==============================] - 0s 6ms/step - loss: 1.2923 - val_loss: 0.1529\n",
      "Epoch 175/400\n",
      "77/77 [==============================] - 0s 5ms/step - loss: 1.4878 - val_loss: 0.2273\n",
      "Epoch 176/400\n",
      "77/77 [==============================] - 0s 6ms/step - loss: 1.3127 - val_loss: 0.1593\n",
      "Epoch 177/400\n",
      "77/77 [==============================] - 0s 5ms/step - loss: 1.1003 - val_loss: 0.1959\n",
      "Epoch 178/400\n",
      "77/77 [==============================] - 0s 5ms/step - loss: 1.1408 - val_loss: 0.1695\n",
      "Epoch 179/400\n",
      "77/77 [==============================] - 0s 6ms/step - loss: 1.2788 - val_loss: 0.1725\n",
      "Epoch 180/400\n",
      "77/77 [==============================] - 0s 6ms/step - loss: 1.2155 - val_loss: 0.1492\n",
      "Epoch 181/400\n",
      "77/77 [==============================] - 1s 7ms/step - loss: 1.1856 - val_loss: 0.2003\n",
      "Epoch 182/400\n",
      "77/77 [==============================] - 0s 6ms/step - loss: 1.3183 - val_loss: 0.3969\n",
      "Epoch 183/400\n",
      "77/77 [==============================] - 0s 6ms/step - loss: 1.2686 - val_loss: 0.1530\n",
      "Epoch 184/400\n",
      "77/77 [==============================] - 0s 6ms/step - loss: 1.2171 - val_loss: 0.1432\n",
      "Epoch 185/400\n",
      "77/77 [==============================] - 0s 6ms/step - loss: 1.1391 - val_loss: 0.1398\n",
      "Epoch 186/400\n",
      "77/77 [==============================] - 0s 6ms/step - loss: 1.0812 - val_loss: 0.1708\n",
      "Epoch 187/400\n",
      "77/77 [==============================] - 0s 6ms/step - loss: 1.2411 - val_loss: 0.1515\n",
      "Epoch 188/400\n",
      "77/77 [==============================] - 0s 6ms/step - loss: 1.1818 - val_loss: 0.1530\n",
      "Epoch 189/400\n",
      "77/77 [==============================] - 0s 6ms/step - loss: 1.3335 - val_loss: 0.1431\n",
      "Epoch 190/400\n",
      "77/77 [==============================] - 0s 5ms/step - loss: 1.0663 - val_loss: 0.1761\n",
      "Epoch 191/400\n",
      "77/77 [==============================] - 0s 5ms/step - loss: 1.1753 - val_loss: 0.1518\n",
      "Epoch 192/400\n",
      "77/77 [==============================] - 0s 6ms/step - loss: 1.0676 - val_loss: 0.1361\n",
      "Epoch 193/400\n",
      "77/77 [==============================] - 0s 6ms/step - loss: 1.1566 - val_loss: 0.2971\n",
      "Epoch 194/400\n",
      "77/77 [==============================] - 0s 6ms/step - loss: 1.1385 - val_loss: 0.2294\n",
      "Epoch 195/400\n",
      "77/77 [==============================] - 0s 6ms/step - loss: 0.9833 - val_loss: 0.1549\n",
      "Epoch 196/400\n",
      "77/77 [==============================] - 0s 6ms/step - loss: 1.0751 - val_loss: 0.2457\n",
      "Epoch 197/400\n",
      "77/77 [==============================] - 0s 6ms/step - loss: 1.2003 - val_loss: 0.3647\n",
      "Epoch 198/400\n",
      "77/77 [==============================] - 0s 6ms/step - loss: 1.2949 - val_loss: 0.3117\n",
      "Epoch 199/400\n",
      "77/77 [==============================] - 0s 6ms/step - loss: 1.1310 - val_loss: 0.1493\n",
      "Epoch 200/400\n",
      "77/77 [==============================] - 0s 6ms/step - loss: 1.0708 - val_loss: 0.2918\n",
      "Epoch 201/400\n",
      "77/77 [==============================] - 0s 6ms/step - loss: 1.2219 - val_loss: 0.2078\n",
      "Epoch 202/400\n",
      "77/77 [==============================] - 0s 6ms/step - loss: 1.0447 - val_loss: 0.1401\n",
      "Epoch 203/400\n",
      "77/77 [==============================] - 0s 6ms/step - loss: 1.1023 - val_loss: 0.1488\n",
      "Epoch 204/400\n",
      "77/77 [==============================] - 0s 6ms/step - loss: 1.3306 - val_loss: 0.1485\n",
      "Epoch 205/400\n",
      "77/77 [==============================] - 0s 6ms/step - loss: 1.1873 - val_loss: 0.1613\n",
      "Epoch 206/400\n",
      "77/77 [==============================] - 0s 6ms/step - loss: 1.2917 - val_loss: 0.1570\n",
      "Epoch 207/400\n",
      "77/77 [==============================] - 0s 5ms/step - loss: 0.9655 - val_loss: 0.3724\n",
      "Epoch 208/400\n",
      "77/77 [==============================] - 0s 6ms/step - loss: 1.1932 - val_loss: 0.1869\n",
      "Epoch 209/400\n",
      "77/77 [==============================] - 0s 5ms/step - loss: 1.1338 - val_loss: 0.1701\n",
      "Epoch 210/400\n",
      "77/77 [==============================] - 0s 6ms/step - loss: 1.1060 - val_loss: 0.1624\n",
      "Epoch 211/400\n",
      "77/77 [==============================] - 0s 5ms/step - loss: 1.0568 - val_loss: 0.2315\n",
      "Epoch 212/400\n",
      "77/77 [==============================] - 0s 6ms/step - loss: 1.2034 - val_loss: 0.1643\n",
      "Epoch 213/400\n",
      "77/77 [==============================] - 0s 6ms/step - loss: 1.0947 - val_loss: 0.2011\n",
      "Epoch 214/400\n",
      "77/77 [==============================] - 0s 6ms/step - loss: 1.0041 - val_loss: 0.1763\n",
      "Epoch 215/400\n",
      "77/77 [==============================] - 0s 6ms/step - loss: 1.1394 - val_loss: 0.1553\n",
      "Epoch 216/400\n",
      "77/77 [==============================] - 0s 5ms/step - loss: 1.0663 - val_loss: 0.2266\n",
      "Epoch 217/400\n",
      "77/77 [==============================] - 0s 5ms/step - loss: 1.4490 - val_loss: 0.1482\n",
      "Epoch 218/400\n",
      "77/77 [==============================] - 0s 6ms/step - loss: 1.1398 - val_loss: 0.1828\n",
      "Epoch 219/400\n",
      "77/77 [==============================] - 0s 6ms/step - loss: 1.0656 - val_loss: 0.1963\n",
      "Epoch 220/400\n",
      "77/77 [==============================] - 0s 6ms/step - loss: 1.3229 - val_loss: 0.1529\n",
      "Epoch 221/400\n",
      "77/77 [==============================] - 0s 6ms/step - loss: 1.1617 - val_loss: 0.2851\n",
      "Epoch 222/400\n",
      "77/77 [==============================] - 0s 5ms/step - loss: 1.1989 - val_loss: 0.4093\n",
      "Epoch 223/400\n",
      "77/77 [==============================] - 0s 6ms/step - loss: 1.3033 - val_loss: 0.3122\n",
      "Epoch 224/400\n",
      "77/77 [==============================] - 0s 6ms/step - loss: 1.1900 - val_loss: 0.1834\n",
      "Epoch 225/400\n",
      "77/77 [==============================] - 0s 6ms/step - loss: 1.2335 - val_loss: 0.1400\n",
      "Epoch 226/400\n",
      "77/77 [==============================] - 0s 6ms/step - loss: 1.1346 - val_loss: 0.2227\n",
      "Epoch 227/400\n",
      "77/77 [==============================] - 0s 6ms/step - loss: 1.1306 - val_loss: 0.2099\n",
      "Epoch 228/400\n",
      "77/77 [==============================] - 0s 6ms/step - loss: 1.1668 - val_loss: 0.2219\n",
      "Epoch 229/400\n",
      "77/77 [==============================] - 0s 6ms/step - loss: 1.0689 - val_loss: 0.1373\n",
      "Epoch 230/400\n",
      "77/77 [==============================] - 0s 6ms/step - loss: 1.1846 - val_loss: 0.2913\n",
      "Epoch 231/400\n",
      "77/77 [==============================] - 0s 6ms/step - loss: 0.9866 - val_loss: 0.2209\n",
      "Epoch 232/400\n",
      "77/77 [==============================] - 0s 6ms/step - loss: 1.0823 - val_loss: 0.2295\n",
      "Epoch 233/400\n",
      "77/77 [==============================] - 0s 6ms/step - loss: 1.0967 - val_loss: 0.1555\n",
      "Epoch 234/400\n",
      "77/77 [==============================] - 0s 6ms/step - loss: 1.3339 - val_loss: 0.1480\n",
      "Epoch 235/400\n",
      "77/77 [==============================] - 0s 5ms/step - loss: 1.1692 - val_loss: 0.1446\n",
      "Epoch 236/400\n",
      "77/77 [==============================] - 0s 6ms/step - loss: 1.1021 - val_loss: 0.2384\n",
      "Epoch 237/400\n",
      "77/77 [==============================] - 0s 5ms/step - loss: 0.9375 - val_loss: 0.1417\n",
      "Epoch 238/400\n",
      "77/77 [==============================] - 0s 6ms/step - loss: 1.1688 - val_loss: 0.1790\n",
      "Epoch 239/400\n",
      "77/77 [==============================] - 0s 6ms/step - loss: 1.0904 - val_loss: 0.1640\n",
      "Epoch 240/400\n",
      "77/77 [==============================] - 0s 6ms/step - loss: 1.1259 - val_loss: 0.1369\n",
      "Epoch 241/400\n",
      "77/77 [==============================] - 0s 6ms/step - loss: 1.0664 - val_loss: 0.1985\n",
      "Epoch 242/400\n",
      "77/77 [==============================] - 0s 6ms/step - loss: 1.1491 - val_loss: 0.1804\n",
      "Epoch 243/400\n",
      "77/77 [==============================] - 0s 6ms/step - loss: 1.0509 - val_loss: 0.1901\n",
      "Epoch 244/400\n",
      "77/77 [==============================] - 0s 5ms/step - loss: 1.1798 - val_loss: 0.1578\n",
      "Epoch 245/400\n",
      "77/77 [==============================] - 0s 5ms/step - loss: 1.1847 - val_loss: 0.1624\n",
      "Epoch 246/400\n",
      "77/77 [==============================] - 0s 5ms/step - loss: 1.1271 - val_loss: 0.1500\n",
      "Epoch 247/400\n",
      "77/77 [==============================] - 0s 5ms/step - loss: 1.1357 - val_loss: 0.1633\n",
      "Epoch 248/400\n",
      "77/77 [==============================] - 0s 5ms/step - loss: 1.0704 - val_loss: 0.3535\n",
      "Epoch 249/400\n",
      "77/77 [==============================] - 0s 6ms/step - loss: 1.1454 - val_loss: 0.1796\n",
      "Epoch 250/400\n",
      "77/77 [==============================] - 0s 6ms/step - loss: 0.9318 - val_loss: 0.1414\n",
      "Epoch 251/400\n",
      "77/77 [==============================] - 0s 5ms/step - loss: 1.1638 - val_loss: 0.2057\n",
      "Epoch 252/400\n",
      "77/77 [==============================] - 0s 5ms/step - loss: 1.0886 - val_loss: 0.1600\n",
      "Epoch 253/400\n",
      "77/77 [==============================] - 0s 5ms/step - loss: 1.0734 - val_loss: 0.1462\n",
      "Epoch 254/400\n",
      "77/77 [==============================] - 0s 6ms/step - loss: 0.9672 - val_loss: 0.1433\n",
      "Epoch 255/400\n",
      "77/77 [==============================] - 0s 6ms/step - loss: 0.9561 - val_loss: 0.1576\n",
      "Epoch 256/400\n",
      "77/77 [==============================] - 0s 6ms/step - loss: 1.2145 - val_loss: 0.1427\n",
      "Epoch 257/400\n",
      "77/77 [==============================] - 0s 5ms/step - loss: 1.1982 - val_loss: 0.1708\n",
      "Epoch 258/400\n",
      "77/77 [==============================] - 0s 5ms/step - loss: 1.1080 - val_loss: 0.1795\n",
      "Epoch 259/400\n",
      "77/77 [==============================] - 0s 5ms/step - loss: 1.1877 - val_loss: 0.1825\n",
      "Epoch 260/400\n",
      "77/77 [==============================] - 0s 5ms/step - loss: 1.1408 - val_loss: 1.0727\n",
      "Epoch 261/400\n",
      "77/77 [==============================] - 0s 5ms/step - loss: 1.2999 - val_loss: 0.3228\n",
      "Epoch 262/400\n",
      "77/77 [==============================] - 0s 6ms/step - loss: 1.1716 - val_loss: 0.1831\n",
      "Epoch 263/400\n",
      "77/77 [==============================] - 0s 5ms/step - loss: 1.0190 - val_loss: 0.1893\n",
      "Epoch 264/400\n",
      "77/77 [==============================] - 0s 5ms/step - loss: 1.3345 - val_loss: 0.2151\n",
      "Epoch 265/400\n",
      "77/77 [==============================] - 0s 5ms/step - loss: 1.0304 - val_loss: 0.1451\n",
      "Epoch 266/400\n",
      "77/77 [==============================] - 0s 6ms/step - loss: 1.1829 - val_loss: 0.2089\n",
      "Epoch 267/400\n",
      "77/77 [==============================] - 0s 6ms/step - loss: 1.0974 - val_loss: 0.1453\n",
      "Epoch 268/400\n",
      "77/77 [==============================] - 0s 6ms/step - loss: 1.1356 - val_loss: 0.1422\n",
      "Epoch 269/400\n",
      "77/77 [==============================] - 0s 6ms/step - loss: 1.0691 - val_loss: 0.2989\n",
      "Epoch 270/400\n",
      "77/77 [==============================] - 0s 6ms/step - loss: 1.3312 - val_loss: 0.1400\n",
      "Epoch 271/400\n",
      "77/77 [==============================] - 0s 6ms/step - loss: 1.0598 - val_loss: 0.1451\n",
      "Epoch 272/400\n",
      "77/77 [==============================] - 0s 5ms/step - loss: 1.0227 - val_loss: 0.3044\n",
      "Epoch 273/400\n",
      "77/77 [==============================] - 0s 5ms/step - loss: 1.0769 - val_loss: 0.1674\n",
      "Epoch 274/400\n",
      "77/77 [==============================] - 0s 5ms/step - loss: 1.0439 - val_loss: 0.1569\n",
      "Epoch 275/400\n",
      "77/77 [==============================] - 0s 5ms/step - loss: 1.0678 - val_loss: 0.1493\n",
      "Epoch 276/400\n",
      "77/77 [==============================] - 0s 5ms/step - loss: 0.9907 - val_loss: 0.2736\n",
      "Epoch 277/400\n",
      "77/77 [==============================] - 0s 5ms/step - loss: 1.2240 - val_loss: 0.1810\n",
      "Epoch 278/400\n",
      "77/77 [==============================] - 0s 5ms/step - loss: 1.0312 - val_loss: 0.1639\n",
      "Epoch 279/400\n",
      "77/77 [==============================] - 0s 5ms/step - loss: 1.1233 - val_loss: 0.1539\n",
      "Epoch 280/400\n",
      "77/77 [==============================] - 0s 6ms/step - loss: 1.0176 - val_loss: 0.1640\n",
      "Epoch 281/400\n",
      "77/77 [==============================] - 0s 6ms/step - loss: 1.1812 - val_loss: 0.1566\n",
      "Epoch 282/400\n",
      "77/77 [==============================] - 0s 5ms/step - loss: 1.1456 - val_loss: 0.1827\n",
      "Epoch 283/400\n",
      "77/77 [==============================] - 0s 5ms/step - loss: 1.1261 - val_loss: 0.1912\n",
      "Epoch 284/400\n",
      "77/77 [==============================] - 0s 5ms/step - loss: 0.9572 - val_loss: 0.1997\n",
      "Epoch 285/400\n",
      "77/77 [==============================] - 0s 5ms/step - loss: 0.9454 - val_loss: 0.1916\n",
      "Epoch 286/400\n",
      "77/77 [==============================] - 0s 5ms/step - loss: 1.1801 - val_loss: 0.4045\n",
      "Epoch 287/400\n",
      "77/77 [==============================] - 0s 5ms/step - loss: 0.9752 - val_loss: 0.2025\n",
      "Epoch 288/400\n",
      "77/77 [==============================] - 0s 5ms/step - loss: 1.2464 - val_loss: 0.2177\n",
      "Epoch 289/400\n",
      "77/77 [==============================] - 0s 5ms/step - loss: 1.1534 - val_loss: 0.1433\n",
      "Epoch 290/400\n",
      "77/77 [==============================] - 0s 5ms/step - loss: 0.9595 - val_loss: 0.1506\n",
      "Epoch 291/400\n",
      "77/77 [==============================] - 0s 5ms/step - loss: 0.9926 - val_loss: 0.1375\n",
      "Epoch 292/400\n",
      "77/77 [==============================] - 0s 5ms/step - loss: 1.1175 - val_loss: 0.2496\n",
      "Epoch 293/400\n",
      "77/77 [==============================] - 0s 6ms/step - loss: 1.1452 - val_loss: 0.1614\n",
      "Epoch 294/400\n",
      "77/77 [==============================] - 0s 5ms/step - loss: 1.0541 - val_loss: 0.1555\n",
      "Epoch 295/400\n",
      "77/77 [==============================] - 0s 5ms/step - loss: 1.1578 - val_loss: 0.1383\n",
      "Epoch 296/400\n",
      "77/77 [==============================] - 0s 6ms/step - loss: 0.9736 - val_loss: 0.1665\n",
      "Epoch 297/400\n",
      "77/77 [==============================] - 0s 5ms/step - loss: 0.9538 - val_loss: 0.2648\n",
      "Epoch 298/400\n",
      "77/77 [==============================] - 0s 6ms/step - loss: 0.9321 - val_loss: 0.1387\n",
      "Epoch 299/400\n",
      "77/77 [==============================] - 0s 5ms/step - loss: 1.0422 - val_loss: 0.2550\n",
      "Epoch 300/400\n",
      "77/77 [==============================] - 0s 6ms/step - loss: 1.1719 - val_loss: 0.1346\n",
      "Epoch 301/400\n",
      "77/77 [==============================] - 0s 5ms/step - loss: 1.0119 - val_loss: 0.2015\n",
      "Epoch 302/400\n",
      "77/77 [==============================] - 0s 5ms/step - loss: 1.0882 - val_loss: 0.1997\n",
      "Epoch 303/400\n",
      "77/77 [==============================] - 0s 5ms/step - loss: 0.9978 - val_loss: 0.1446\n",
      "Epoch 304/400\n",
      "77/77 [==============================] - 0s 6ms/step - loss: 1.1437 - val_loss: 0.1640\n",
      "Epoch 305/400\n",
      "77/77 [==============================] - 0s 6ms/step - loss: 1.0638 - val_loss: 0.1377\n",
      "Epoch 306/400\n",
      "77/77 [==============================] - 0s 6ms/step - loss: 1.2531 - val_loss: 0.1553\n",
      "Epoch 307/400\n",
      "77/77 [==============================] - 0s 6ms/step - loss: 1.0211 - val_loss: 0.4139\n",
      "Epoch 308/400\n",
      "77/77 [==============================] - 0s 6ms/step - loss: 1.0939 - val_loss: 0.1434\n",
      "Epoch 309/400\n",
      "77/77 [==============================] - 0s 6ms/step - loss: 0.9573 - val_loss: 0.1364\n",
      "Epoch 310/400\n",
      "77/77 [==============================] - 0s 6ms/step - loss: 1.2356 - val_loss: 0.2154\n",
      "Epoch 311/400\n",
      "77/77 [==============================] - 0s 6ms/step - loss: 1.1447 - val_loss: 0.1376\n",
      "Epoch 312/400\n",
      "77/77 [==============================] - 0s 6ms/step - loss: 1.0854 - val_loss: 0.1532\n",
      "Epoch 313/400\n",
      "77/77 [==============================] - 0s 6ms/step - loss: 1.1039 - val_loss: 0.1571\n",
      "Epoch 314/400\n",
      "77/77 [==============================] - 0s 6ms/step - loss: 1.1338 - val_loss: 0.1473\n",
      "Epoch 315/400\n",
      "77/77 [==============================] - 0s 5ms/step - loss: 1.1208 - val_loss: 0.1605\n",
      "Epoch 316/400\n",
      "77/77 [==============================] - 0s 5ms/step - loss: 1.1588 - val_loss: 0.1854\n",
      "Epoch 317/400\n",
      "77/77 [==============================] - 0s 6ms/step - loss: 0.9401 - val_loss: 0.1493\n",
      "Epoch 318/400\n",
      "77/77 [==============================] - 0s 5ms/step - loss: 0.9778 - val_loss: 0.1407\n",
      "Epoch 319/400\n",
      "77/77 [==============================] - 0s 6ms/step - loss: 1.1703 - val_loss: 0.1425\n",
      "Epoch 320/400\n",
      "77/77 [==============================] - 0s 5ms/step - loss: 0.9594 - val_loss: 0.1814\n",
      "Epoch 321/400\n",
      "77/77 [==============================] - 0s 6ms/step - loss: 0.9886 - val_loss: 0.1978\n",
      "Epoch 322/400\n",
      "77/77 [==============================] - 0s 6ms/step - loss: 1.1058 - val_loss: 0.2582\n",
      "Epoch 323/400\n",
      "77/77 [==============================] - 0s 6ms/step - loss: 0.9404 - val_loss: 0.2854\n",
      "Epoch 324/400\n",
      "77/77 [==============================] - 0s 5ms/step - loss: 1.0757 - val_loss: 0.1499\n",
      "Epoch 325/400\n",
      "77/77 [==============================] - 0s 6ms/step - loss: 1.0185 - val_loss: 0.1767\n",
      "Epoch 326/400\n",
      "77/77 [==============================] - 0s 6ms/step - loss: 1.0241 - val_loss: 0.1409\n",
      "Epoch 327/400\n",
      "77/77 [==============================] - 0s 6ms/step - loss: 1.0468 - val_loss: 0.1420\n",
      "Epoch 328/400\n",
      "77/77 [==============================] - 0s 6ms/step - loss: 1.0719 - val_loss: 0.2296\n",
      "Epoch 329/400\n",
      "77/77 [==============================] - 0s 5ms/step - loss: 0.9572 - val_loss: 0.1554\n",
      "Epoch 330/400\n",
      "77/77 [==============================] - 0s 6ms/step - loss: 1.0052 - val_loss: 0.2711\n",
      "Epoch 331/400\n",
      "77/77 [==============================] - 0s 5ms/step - loss: 1.1696 - val_loss: 0.1523\n",
      "Epoch 332/400\n",
      "77/77 [==============================] - 0s 6ms/step - loss: 1.0197 - val_loss: 0.1945\n",
      "Epoch 333/400\n",
      "77/77 [==============================] - 0s 6ms/step - loss: 1.0265 - val_loss: 0.2006\n",
      "Epoch 334/400\n",
      "77/77 [==============================] - 0s 5ms/step - loss: 0.9605 - val_loss: 0.2343\n",
      "Epoch 335/400\n",
      "77/77 [==============================] - 0s 6ms/step - loss: 0.9161 - val_loss: 0.1561\n",
      "Epoch 336/400\n",
      "77/77 [==============================] - 0s 5ms/step - loss: 1.0277 - val_loss: 0.1393\n",
      "Epoch 337/400\n",
      "77/77 [==============================] - 0s 5ms/step - loss: 1.0754 - val_loss: 0.1396\n",
      "Epoch 338/400\n",
      "77/77 [==============================] - 0s 5ms/step - loss: 1.0212 - val_loss: 0.2296\n",
      "Epoch 339/400\n",
      "77/77 [==============================] - 0s 5ms/step - loss: 0.9630 - val_loss: 0.1461\n",
      "Epoch 340/400\n",
      "77/77 [==============================] - 0s 5ms/step - loss: 1.1122 - val_loss: 0.1510\n",
      "Epoch 341/400\n",
      "77/77 [==============================] - 0s 6ms/step - loss: 0.9493 - val_loss: 0.1759\n",
      "Epoch 342/400\n",
      "77/77 [==============================] - 0s 6ms/step - loss: 1.0604 - val_loss: 0.3004\n",
      "Epoch 343/400\n",
      "77/77 [==============================] - 0s 6ms/step - loss: 0.8280 - val_loss: 0.1620\n",
      "Epoch 344/400\n",
      "77/77 [==============================] - 0s 6ms/step - loss: 1.0488 - val_loss: 0.1472\n",
      "Epoch 345/400\n",
      "77/77 [==============================] - 0s 6ms/step - loss: 1.0152 - val_loss: 0.1992\n",
      "Epoch 346/400\n",
      "77/77 [==============================] - 0s 6ms/step - loss: 0.9952 - val_loss: 0.2434\n",
      "Epoch 347/400\n",
      "77/77 [==============================] - 0s 5ms/step - loss: 0.9549 - val_loss: 0.1994\n",
      "Epoch 348/400\n",
      "77/77 [==============================] - 0s 6ms/step - loss: 1.0073 - val_loss: 0.1590\n",
      "Epoch 349/400\n",
      "77/77 [==============================] - 0s 6ms/step - loss: 1.0616 - val_loss: 0.2829\n",
      "Epoch 350/400\n",
      "77/77 [==============================] - 0s 5ms/step - loss: 1.0703 - val_loss: 0.1476\n",
      "Epoch 351/400\n",
      "77/77 [==============================] - 0s 5ms/step - loss: 1.0387 - val_loss: 0.1574\n",
      "Epoch 352/400\n",
      "77/77 [==============================] - 0s 5ms/step - loss: 0.9673 - val_loss: 0.1618\n",
      "Epoch 353/400\n",
      "77/77 [==============================] - 0s 6ms/step - loss: 1.1217 - val_loss: 0.1368\n",
      "Epoch 354/400\n",
      "77/77 [==============================] - 0s 6ms/step - loss: 1.0968 - val_loss: 0.2542\n",
      "Epoch 355/400\n",
      "77/77 [==============================] - 0s 6ms/step - loss: 1.0599 - val_loss: 0.3000\n",
      "Epoch 356/400\n",
      "77/77 [==============================] - 0s 6ms/step - loss: 1.0393 - val_loss: 0.1581\n",
      "Epoch 357/400\n",
      "77/77 [==============================] - 0s 6ms/step - loss: 0.8885 - val_loss: 0.1338\n",
      "Epoch 358/400\n",
      "77/77 [==============================] - 0s 6ms/step - loss: 1.1374 - val_loss: 0.1445\n",
      "Epoch 359/400\n",
      "77/77 [==============================] - 0s 6ms/step - loss: 0.9983 - val_loss: 0.1547\n",
      "Epoch 360/400\n",
      "77/77 [==============================] - 0s 6ms/step - loss: 0.8261 - val_loss: 0.2656\n",
      "Epoch 361/400\n",
      "77/77 [==============================] - 0s 6ms/step - loss: 0.7907 - val_loss: 0.1382\n",
      "Epoch 362/400\n",
      "77/77 [==============================] - 0s 5ms/step - loss: 0.9614 - val_loss: 0.2471\n",
      "Epoch 363/400\n",
      "77/77 [==============================] - 0s 6ms/step - loss: 1.0006 - val_loss: 0.1549\n",
      "Epoch 364/400\n",
      "77/77 [==============================] - 0s 6ms/step - loss: 0.8451 - val_loss: 0.1397\n",
      "Epoch 365/400\n",
      "77/77 [==============================] - 0s 6ms/step - loss: 0.9119 - val_loss: 0.1908\n",
      "Epoch 366/400\n",
      "77/77 [==============================] - 0s 5ms/step - loss: 0.9137 - val_loss: 0.2336\n",
      "Epoch 367/400\n",
      "77/77 [==============================] - 0s 6ms/step - loss: 1.0287 - val_loss: 0.1524\n",
      "Epoch 368/400\n",
      "77/77 [==============================] - 0s 5ms/step - loss: 1.0649 - val_loss: 0.1838\n",
      "Epoch 369/400\n",
      "77/77 [==============================] - 0s 6ms/step - loss: 1.0060 - val_loss: 0.1421\n",
      "Epoch 370/400\n",
      "77/77 [==============================] - 0s 6ms/step - loss: 0.9285 - val_loss: 0.1526\n",
      "Epoch 371/400\n",
      "77/77 [==============================] - 0s 6ms/step - loss: 0.9421 - val_loss: 0.1553\n",
      "Epoch 372/400\n",
      "77/77 [==============================] - 1s 8ms/step - loss: 1.0095 - val_loss: 0.1506\n",
      "Epoch 373/400\n",
      "77/77 [==============================] - 1s 7ms/step - loss: 0.9521 - val_loss: 0.1437\n",
      "Epoch 374/400\n",
      "77/77 [==============================] - 0s 6ms/step - loss: 0.9571 - val_loss: 0.1350\n",
      "Epoch 375/400\n",
      "77/77 [==============================] - 1s 8ms/step - loss: 0.9309 - val_loss: 0.1489\n",
      "Epoch 376/400\n",
      "77/77 [==============================] - 1s 7ms/step - loss: 1.1309 - val_loss: 0.2614\n",
      "Epoch 377/400\n",
      "77/77 [==============================] - 0s 6ms/step - loss: 0.9623 - val_loss: 0.1705\n",
      "Epoch 378/400\n",
      "77/77 [==============================] - 0s 6ms/step - loss: 1.0007 - val_loss: 0.1459\n",
      "Epoch 379/400\n",
      "77/77 [==============================] - 1s 7ms/step - loss: 1.0458 - val_loss: 0.1600\n",
      "Epoch 380/400\n",
      "77/77 [==============================] - 1s 9ms/step - loss: 0.9231 - val_loss: 0.1448\n",
      "Epoch 381/400\n",
      "77/77 [==============================] - 1s 7ms/step - loss: 1.0786 - val_loss: 0.1412\n",
      "Epoch 382/400\n",
      "77/77 [==============================] - 1s 7ms/step - loss: 0.9731 - val_loss: 0.1488\n",
      "Epoch 383/400\n",
      "77/77 [==============================] - 1s 7ms/step - loss: 0.9313 - val_loss: 0.1588\n",
      "Epoch 384/400\n",
      "77/77 [==============================] - 0s 6ms/step - loss: 1.0402 - val_loss: 0.1940\n",
      "Epoch 385/400\n",
      "77/77 [==============================] - 0s 6ms/step - loss: 1.0262 - val_loss: 0.1467\n",
      "Epoch 386/400\n",
      "77/77 [==============================] - 0s 6ms/step - loss: 0.9752 - val_loss: 0.1741\n",
      "Epoch 387/400\n",
      "77/77 [==============================] - 0s 6ms/step - loss: 0.9238 - val_loss: 0.2011\n",
      "Epoch 388/400\n",
      "77/77 [==============================] - 0s 6ms/step - loss: 1.0685 - val_loss: 0.1647\n",
      "Epoch 389/400\n",
      "77/77 [==============================] - 0s 5ms/step - loss: 0.8932 - val_loss: 0.1422\n",
      "Epoch 390/400\n",
      "77/77 [==============================] - 0s 5ms/step - loss: 0.9590 - val_loss: 0.1398\n",
      "Epoch 391/400\n",
      "77/77 [==============================] - 0s 6ms/step - loss: 0.9183 - val_loss: 0.1449\n",
      "Epoch 392/400\n",
      "77/77 [==============================] - 0s 6ms/step - loss: 1.0212 - val_loss: 0.1941\n",
      "Epoch 393/400\n",
      "77/77 [==============================] - 0s 6ms/step - loss: 0.9605 - val_loss: 0.1448\n",
      "Epoch 394/400\n",
      "77/77 [==============================] - 0s 6ms/step - loss: 0.8569 - val_loss: 0.1590\n",
      "Epoch 395/400\n",
      "77/77 [==============================] - 0s 6ms/step - loss: 0.7906 - val_loss: 0.1437\n",
      "Epoch 396/400\n",
      "77/77 [==============================] - 1s 8ms/step - loss: 0.9508 - val_loss: 0.1487\n",
      "Epoch 397/400\n",
      "77/77 [==============================] - 1s 8ms/step - loss: 0.8877 - val_loss: 0.1577\n",
      "Epoch 398/400\n",
      "77/77 [==============================] - 1s 7ms/step - loss: 0.9775 - val_loss: 0.2142\n",
      "Epoch 399/400\n",
      "77/77 [==============================] - 0s 6ms/step - loss: 0.8541 - val_loss: 0.3807\n",
      "Epoch 400/400\n",
      "77/77 [==============================] - 0s 6ms/step - loss: 0.9250 - val_loss: 0.1561\n"
     ]
    }
   ],
   "source": [
    "import tensorflow as tf\n",
    "from tensorflow import keras\n",
    "from tensorflow.keras import Sequential, layers, callbacks\n",
    "def create_gru(units):\n",
    "    model = Sequential()\n",
    "    # Input layer \n",
    "    model.add(GRU (units = units, return_sequences = True, \n",
    "                 input_shape = [X_train.shape[1], 1]))\n",
    "    model.add(Dropout(0.2)) \n",
    "    # Hidden layer\n",
    "    model.add(GRU(units = units))                 \n",
    "    model.add(Dropout(0.2))\n",
    "    model.add(Dense(units = 1)) \n",
    "    #Compile model\n",
    "    model.compile(optimizer='adam',loss='mse')\n",
    "   \n",
    "    return model\n",
    "model_gru = create_gru(64)\n",
    "\n",
    "\n",
    "def fit_model(model):\n",
    "    early_stop = keras.callbacks.EarlyStopping(monitor = 'val_loss',\n",
    "                                               patience = 10)\n",
    "    history = model.fit(X_train, y_train, epochs = 400, validation_split = 0.2,\n",
    "                    batch_size = 4, shuffle = False)\n",
    "    return history\n",
    "\n",
    "history_gru = fit_model(model_gru)"
   ]
  },
  {
   "cell_type": "code",
   "execution_count": 95,
   "id": "0dfc2759",
   "metadata": {},
   "outputs": [
    {
     "name": "stdout",
     "output_type": "stream",
     "text": [
      "Model: \"sequential_20\"\n",
      "_________________________________________________________________\n",
      " Layer (type)                Output Shape              Param #   \n",
      "=================================================================\n",
      " gru_10 (GRU)                (None, 15, 64)            12864     \n",
      "                                                                 \n",
      " dropout_8 (Dropout)         (None, 15, 64)            0         \n",
      "                                                                 \n",
      " gru_11 (GRU)                (None, 64)                24960     \n",
      "                                                                 \n",
      " dropout_9 (Dropout)         (None, 64)                0         \n",
      "                                                                 \n",
      " dense_3 (Dense)             (None, 1)                 65        \n",
      "                                                                 \n",
      "=================================================================\n",
      "Total params: 37,889\n",
      "Trainable params: 37,889\n",
      "Non-trainable params: 0\n",
      "_________________________________________________________________\n"
     ]
    }
   ],
   "source": [
    "model_gru.summary()"
   ]
  },
  {
   "cell_type": "code",
   "execution_count": 96,
   "id": "a74b2f23",
   "metadata": {},
   "outputs": [
    {
     "name": "stdout",
     "output_type": "stream",
     "text": [
      "3/3 [==============================] - 1s 3ms/step\n",
      "GRU:\n",
      "Mean Absolute Error: 3.6803\n",
      "Root Mean Square Error: 4.3012\n",
      "\n"
     ]
    },
    {
     "data": {
      "image/png": "[encoded data removed]",
      "text/plain": [
       "<Figure size 720x432 with 1 Axes>"
      ]
     },
     "metadata": {
      "needs_background": "light"
     },
     "output_type": "display_data"
    },
    {
     "data": {
      "image/png": "[encoded data removed]",
      "text/plain": [
       "<Figure size 720x432 with 1 Axes>"
      ]
     },
     "metadata": {
      "needs_background": "light"
     },
     "output_type": "display_data"
    }
   ],
   "source": [
    "def plot_loss (history, model_name):\n",
    "    plt.figure(figsize = (10, 6))\n",
    "    plt.plot(history.history['loss'])\n",
    "    plt.plot(history.history['val_loss'])\n",
    "    plt.title('Model Train vs Validation Loss for ' + model_name)\n",
    "    plt.ylabel('Loss')\n",
    "    plt.xlabel('epoch')\n",
    "    plt.legend(['Train loss', 'Validation loss'], loc='upper right')\n",
    "    plt.savefig('C:/Users/basco/Jupyter/'+model_name+'.jpg', format='jpg', dpi=1000)\n",
    "\n",
    "plot_loss (history_gru, 'GRU')\n",
    "\n",
    "# Transform data back to original data space\n",
    "y_test = scaler.inverse_transform(y_test)\n",
    "y_train = scaler.inverse_transform(y_train)\n",
    "\n",
    "# Make prediction\n",
    "def prediction(model):\n",
    "    prediction = model.predict(X_test)\n",
    "    prediction = scaler.inverse_transform(prediction)\n",
    "    return prediction\n",
    "\n",
    "prediction_gru = prediction(model_gru)\n",
    "\n",
    "# Plot test data vs prediction\n",
    "def plot_future(prediction, model_name, y_test):\n",
    "    \n",
    "    plt.figure(figsize=(10, 6))\n",
    "    \n",
    "    range_future = len(prediction)\n",
    "\n",
    "    plt.plot(np.arange(range_future), np.array(y_test), label='Test data')\n",
    "    plt.plot(np.arange(range_future), np.array(prediction),label='Prediction')\n",
    "\n",
    "    plt.title('Test data vs prediction for ' + model_name)\n",
    "    plt.legend(loc='upper left')\n",
    "    plt.xlabel('Time (day)')\n",
    "    plt.ylabel('Daily water consumption ($m^3$/capita.day)')\n",
    "       \n",
    "plot_future(prediction_gru, 'GRU', y_test)\n",
    "# Calculate MAE and RMSE\n",
    "def evaluate_prediction(predictions, actual, model_name):\n",
    "    errors = predictions - actual\n",
    "    mse = np.square(errors).mean()\n",
    "    rmse = np.sqrt(mse)\n",
    "    mae = np.abs(errors).mean()\n",
    "\n",
    "    print(model_name + ':')\n",
    "    print('Mean Absolute Error: {:.4f}'.format(mae))\n",
    "    print('Root Mean Square Error: {:.4f}'.format(rmse))\n",
    "    print('')\n",
    "\n",
    "evaluate_prediction(prediction_gru, y_test, 'GRU')"
   ]
  },
  {
   "cell_type": "code",
   "execution_count": 115,
   "id": "fe1951d4",
   "metadata": {},
   "outputs": [
    {
     "name": "stdout",
     "output_type": "stream",
     "text": [
      "13/13 [==============================] - 0s 3ms/step\n",
      "3/3 [==============================] - 0s 3ms/step\n"
     ]
    },
    {
     "data": {
      "text/plain": [
       "((386, 1), (85, 1))"
      ]
     },
     "execution_count": 115,
     "metadata": {},
     "output_type": "execute_result"
    }
   ],
   "source": [
    "df_close = data_set[['Date','Close']]\n",
    "train_predict=model_gru.predict(X_train)\n",
    "test_predict=model_gru.predict(X_test)\n",
    "train_predict.shape, test_predict.shape"
   ]
  },
  {
   "cell_type": "code",
   "execution_count": 116,
   "id": "d0ed6142",
   "metadata": {},
   "outputs": [
    {
     "data": {
      "text/plain": [
       "((386, 1), (85, 1))"
      ]
     },
     "execution_count": 116,
     "metadata": {},
     "output_type": "execute_result"
    }
   ],
   "source": [
    "train_predict = scaler.inverse_transform(train_predict)\n",
    "test_predict = scaler.inverse_transform(test_predict)\n",
    "train_predict.shape, test_predict.shape"
   ]
  },
  {
   "cell_type": "code",
   "execution_count": 114,
   "id": "6f4f90df",
   "metadata": {},
   "outputs": [
    {
     "name": "stdout",
     "output_type": "stream",
     "text": [
      "Output of predicted next days:  15\n"
     ]
    }
   ],
   "source": [
    "time_step = 15\n",
    "x_input=test_data[len(test_data)-time_step:].reshape(1,-1)\n",
    "temp_input=list(x_input)\n",
    "temp_input=temp_input[0].tolist()\n",
    "\n",
    "from numpy import array\n",
    "\n",
    "lst_output=[]\n",
    "n_steps=time_step\n",
    "i=0\n",
    "pred_days = 15\n",
    "while(i<pred_days):\n",
    "    \n",
    "    if(len(temp_input)>time_step):\n",
    "        \n",
    "        x_input=np.array(temp_input[1:])\n",
    "        #print(\"{} day input {}\".format(i,x_input))\n",
    "        x_input = x_input.reshape(1,-1)\n",
    "        x_input = x_input.reshape((1, n_steps, 1))\n",
    "        \n",
    "        yhat = model.predict(x_input, verbose=0)\n",
    "        #print(\"{} day output {}\".format(i,yhat))\n",
    "        temp_input.extend(yhat[0].tolist())\n",
    "        temp_input=temp_input[1:]\n",
    "        #print(temp_input)\n",
    "       \n",
    "        lst_output.extend(yhat.tolist())\n",
    "        i=i+1\n",
    "        \n",
    "    else:\n",
    "        \n",
    "        x_input = x_input.reshape((1, n_steps,1))\n",
    "        yhat = model.predict(x_input, verbose=0)\n",
    "        temp_input.extend(yhat[0].tolist())\n",
    "        \n",
    "        lst_output.extend(yhat.tolist())\n",
    "        i=i+1\n",
    "               \n",
    "print(\"Output of predicted next days: \", len(lst_output))"
   ]
  },
  {
   "cell_type": "code",
   "execution_count": 117,
   "id": "2a030103",
   "metadata": {},
   "outputs": [
    {
     "name": "stdout",
     "output_type": "stream",
     "text": [
      "[ 1  2  3  4  5  6  7  8  9 10 11 12 13 14 15]\n",
      "[16 17 18 19 20 21 22 23 24 25 26 27 28 29 30]\n"
     ]
    }
   ],
   "source": [
    "last_days=np.arange(1,time_step+1)\n",
    "day_pred=np.arange(time_step+1,time_step+pred_days+1)\n",
    "print(last_days)\n",
    "print(day_pred)"
   ]
  },
  {
   "cell_type": "code",
   "execution_count": 121,
   "id": "c1b6ceba",
   "metadata": {},
   "outputs": [
    {
     "data": {
      "application/vnd.plotly.v1+json": {
       "config": {
        "plotlyServerURL": "https://plot.ly"
       },
       "data": [
        {
         "hovertemplate": "variable=last_original_days_value<br>Timestamp=%{x}<br>Stock price=%{y}<extra></extra>",
         "legendgroup": "last_original_days_value",
         "line": {
          "color": "#636efa",
          "dash": "solid"
         },
         "marker": {
          "symbol": "circle"
         },
         "mode": "lines",
         "name": "Last 15 days close price",
         "orientation": "v",
         "showlegend": true,
         "type": "scatter",
         "x": [
          0,
          1,
          2,
          3,
          4,
          5,
          6,
          7,
          8,
          9,
          10,
          11,
          12,
          13,
          14,
          15,
          16,
          17,
          18,
          19,
          20,
          21,
          22,
          23,
          24,
          25,
          26,
          27,
          28,
          29,
          30
         ],
         "xaxis": "x",
         "y": [
          17.440001,
          17.440001,
          17.440001,
          17.440001,
          17.440001,
          16.77,
          16.77,
          16.77,
          17.02,
          16.049999,
          15.39,
          15.39,
          16.84,
          16.84,
          16.84,
          null,
          16.88786498308182,
          17.02367896437645,
          17.056347084045413,
          16.94594454467297,
          16.940333595871927,
          17.03885167837143,
          17.050895640254023,
          16.989167201519013,
          16.9484416782856,
          16.953367662429812,
          16.911225265264513,
          16.852631980180742,
          16.86299287080765,
          16.85631499886513,
          16.843632483482363
         ],
         "yaxis": "y"
        },
        {
         "hovertemplate": "variable=next_predicted_days_value<br>Timestamp=%{x}<br>Stock price=%{y}<extra></extra>",
         "legendgroup": "next_predicted_days_value",
         "line": {
          "color": "#EF553B",
          "dash": "solid"
         },
         "marker": {
          "symbol": "circle"
         },
         "mode": "lines",
         "name": "Predicted next 15 days close price",
         "orientation": "v",
         "showlegend": true,
         "type": "scatter",
         "x": [
          0,
          1,
          2,
          3,
          4,
          5,
          6,
          7,
          8,
          9,
          10,
          11,
          12,
          13,
          14,
          15,
          16,
          17,
          18,
          19,
          20,
          21,
          22,
          23,
          24,
          25,
          26,
          27,
          28,
          29,
          30
         ],
         "xaxis": "x",
         "y": [
          17.440001,
          17.440001,
          17.440001,
          17.440001,
          17.440001,
          16.77,
          16.77,
          16.77,
          17.02,
          16.049999,
          15.39,
          15.39,
          16.84,
          16.84,
          16.84,
          null,
          16.88786498308182,
          17.02367896437645,
          17.056347084045413,
          16.94594454467297,
          16.940333595871927,
          17.03885167837143,
          17.050895640254023,
          16.989167201519013,
          16.9484416782856,
          16.953367662429812,
          16.911225265264513,
          16.852631980180742,
          16.86299287080765,
          16.85631499886513,
          16.843632483482363
         ],
         "yaxis": "y"
        }
       ],
       "layout": {
        "font": {
         "color": "black",
         "size": 15
        },
        "legend": {
         "title": {
          "text": "Close Price"
         },
         "tracegroupgap": 0
        },
        "margin": {
         "t": 60
        },
        "plot_bgcolor": "white",
        "template": {
         "data": {
          "bar": [
           {
            "error_x": {
             "color": "#2a3f5f"
            },
            "error_y": {
             "color": "#2a3f5f"
            },
            "marker": {
             "line": {
              "color": "#E5ECF6",
              "width": 0.5
             },
             "pattern": {
              "fillmode": "overlay",
              "size": 10,
              "solidity": 0.2
             }
            },
            "type": "bar"
           }
          ],
          "barpolar": [
           {
            "marker": {
             "line": {
              "color": "#E5ECF6",
              "width": 0.5
             },
             "pattern": {
              "fillmode": "overlay",
              "size": 10,
              "solidity": 0.2
             }
            },
            "type": "barpolar"
           }
          ],
          "carpet": [
           {
            "aaxis": {
             "endlinecolor": "#2a3f5f",
             "gridcolor": "white",
             "linecolor": "white",
             "minorgridcolor": "white",
             "startlinecolor": "#2a3f5f"
            },
            "baxis": {
             "endlinecolor": "#2a3f5f",
             "gridcolor": "white",
             "linecolor": "white",
             "minorgridcolor": "white",
             "startlinecolor": "#2a3f5f"
            },
            "type": "carpet"
           }
          ],
          "choropleth": [
           {
            "colorbar": {
             "outlinewidth": 0,
             "ticks": ""
            },
            "type": "choropleth"
           }
          ],
          "contour": [
           {
            "colorbar": {
             "outlinewidth": 0,
             "ticks": ""
            },
            "colorscale": [
             [
              0,
              "#0d0887"
             ],
             [
              0.1111111111111111,
              "#46039f"
             ],
             [
              0.2222222222222222,
              "#7201a8"
             ],
             [
              0.3333333333333333,
              "#9c179e"
             ],
             [
              0.4444444444444444,
              "#bd3786"
             ],
             [
              0.5555555555555556,
              "#d8576b"
             ],
             [
              0.6666666666666666,
              "#ed7953"
             ],
             [
              0.7777777777777778,
              "#fb9f3a"
             ],
             [
              0.8888888888888888,
              "#fdca26"
             ],
             [
              1,
              "#f0f921"
             ]
            ],
            "type": "contour"
           }
          ],
          "contourcarpet": [
           {
            "colorbar": {
             "outlinewidth": 0,
             "ticks": ""
            },
            "type": "contourcarpet"
           }
          ],
          "heatmap": [
           {
            "colorbar": {
             "outlinewidth": 0,
             "ticks": ""
            },
            "colorscale": [
             [
              0,
              "#0d0887"
             ],
             [
              0.1111111111111111,
              "#46039f"
             ],
             [
              0.2222222222222222,
              "#7201a8"
             ],
             [
              0.3333333333333333,
              "#9c179e"
             ],
             [
              0.4444444444444444,
              "#bd3786"
             ],
             [
              0.5555555555555556,
              "#d8576b"
             ],
             [
              0.6666666666666666,
              "#ed7953"
             ],
             [
              0.7777777777777778,
              "#fb9f3a"
             ],
             [
              0.8888888888888888,
              "#fdca26"
             ],
             [
              1,
              "#f0f921"
             ]
            ],
            "type": "heatmap"
           }
          ],
          "heatmapgl": [
           {
            "colorbar": {
             "outlinewidth": 0,
             "ticks": ""
            },
            "colorscale": [
             [
              0,
              "#0d0887"
             ],
             [
              0.1111111111111111,
              "#46039f"
             ],
             [
              0.2222222222222222,
              "#7201a8"
             ],
             [
              0.3333333333333333,
              "#9c179e"
             ],
             [
              0.4444444444444444,
              "#bd3786"
             ],
             [
              0.5555555555555556,
              "#d8576b"
             ],
             [
              0.6666666666666666,
              "#ed7953"
             ],
             [
              0.7777777777777778,
              "#fb9f3a"
             ],
             [
              0.8888888888888888,
              "#fdca26"
             ],
             [
              1,
              "#f0f921"
             ]
            ],
            "type": "heatmapgl"
           }
          ],
          "histogram": [
           {
            "marker": {
             "pattern": {
              "fillmode": "overlay",
              "size": 10,
              "solidity": 0.2
             }
            },
            "type": "histogram"
           }
          ],
          "histogram2d": [
           {
            "colorbar": {
             "outlinewidth": 0,
             "ticks": ""
            },
            "colorscale": [
             [
              0,
              "#0d0887"
             ],
             [
              0.1111111111111111,
              "#46039f"
             ],
             [
              0.2222222222222222,
              "#7201a8"
             ],
             [
              0.3333333333333333,
              "#9c179e"
             ],
             [
              0.4444444444444444,
              "#bd3786"
             ],
             [
              0.5555555555555556,
              "#d8576b"
             ],
             [
              0.6666666666666666,
              "#ed7953"
             ],
             [
              0.7777777777777778,
              "#fb9f3a"
             ],
             [
              0.8888888888888888,
              "#fdca26"
             ],
             [
              1,
              "#f0f921"
             ]
            ],
            "type": "histogram2d"
           }
          ],
          "histogram2dcontour": [
           {
            "colorbar": {
             "outlinewidth": 0,
             "ticks": ""
            },
            "colorscale": [
             [
              0,
              "#0d0887"
             ],
             [
              0.1111111111111111,
              "#46039f"
             ],
             [
              0.2222222222222222,
              "#7201a8"
             ],
             [
              0.3333333333333333,
              "#9c179e"
             ],
             [
              0.4444444444444444,
              "#bd3786"
             ],
             [
              0.5555555555555556,
              "#d8576b"
             ],
             [
              0.6666666666666666,
              "#ed7953"
             ],
             [
              0.7777777777777778,
              "#fb9f3a"
             ],
             [
              0.8888888888888888,
              "#fdca26"
             ],
             [
              1,
              "#f0f921"
             ]
            ],
            "type": "histogram2dcontour"
           }
          ],
          "mesh3d": [
           {
            "colorbar": {
             "outlinewidth": 0,
             "ticks": ""
            },
            "type": "mesh3d"
           }
          ],
          "parcoords": [
           {
            "line": {
             "colorbar": {
              "outlinewidth": 0,
              "ticks": ""
             }
            },
            "type": "parcoords"
           }
          ],
          "pie": [
           {
            "automargin": true,
            "type": "pie"
           }
          ],
          "scatter": [
           {
            "marker": {
             "colorbar": {
              "outlinewidth": 0,
              "ticks": ""
             }
            },
            "type": "scatter"
           }
          ],
          "scatter3d": [
           {
            "line": {
             "colorbar": {
              "outlinewidth": 0,
              "ticks": ""
             }
            },
            "marker": {
             "colorbar": {
              "outlinewidth": 0,
              "ticks": ""
             }
            },
            "type": "scatter3d"
           }
          ],
          "scattercarpet": [
           {
            "marker": {
             "colorbar": {
              "outlinewidth": 0,
              "ticks": ""
             }
            },
            "type": "scattercarpet"
           }
          ],
          "scattergeo": [
           {
            "marker": {
             "colorbar": {
              "outlinewidth": 0,
              "ticks": ""
             }
            },
            "type": "scattergeo"
           }
          ],
          "scattergl": [
           {
            "marker": {
             "colorbar": {
              "outlinewidth": 0,
              "ticks": ""
             }
            },
            "type": "scattergl"
           }
          ],
          "scattermapbox": [
           {
            "marker": {
             "colorbar": {
              "outlinewidth": 0,
              "ticks": ""
             }
            },
            "type": "scattermapbox"
           }
          ],
          "scatterpolar": [
           {
            "marker": {
             "colorbar": {
              "outlinewidth": 0,
              "ticks": ""
             }
            },
            "type": "scatterpolar"
           }
          ],
          "scatterpolargl": [
           {
            "marker": {
             "colorbar": {
              "outlinewidth": 0,
              "ticks": ""
             }
            },
            "type": "scatterpolargl"
           }
          ],
          "scatterternary": [
           {
            "marker": {
             "colorbar": {
              "outlinewidth": 0,
              "ticks": ""
             }
            },
            "type": "scatterternary"
           }
          ],
          "surface": [
           {
            "colorbar": {
             "outlinewidth": 0,
             "ticks": ""
            },
            "colorscale": [
             [
              0,
              "#0d0887"
             ],
             [
              0.1111111111111111,
              "#46039f"
             ],
             [
              0.2222222222222222,
              "#7201a8"
             ],
             [
              0.3333333333333333,
              "#9c179e"
             ],
             [
              0.4444444444444444,
              "#bd3786"
             ],
             [
              0.5555555555555556,
              "#d8576b"
             ],
             [
              0.6666666666666666,
              "#ed7953"
             ],
             [
              0.7777777777777778,
              "#fb9f3a"
             ],
             [
              0.8888888888888888,
              "#fdca26"
             ],
             [
              1,
              "#f0f921"
             ]
            ],
            "type": "surface"
           }
          ],
          "table": [
           {
            "cells": {
             "fill": {
              "color": "#EBF0F8"
             },
             "line": {
              "color": "white"
             }
            },
            "header": {
             "fill": {
              "color": "#C8D4E3"
             },
             "line": {
              "color": "white"
             }
            },
            "type": "table"
           }
          ]
         },
         "layout": {
          "annotationdefaults": {
           "arrowcolor": "#2a3f5f",
           "arrowhead": 0,
           "arrowwidth": 1
          },
          "autotypenumbers": "strict",
          "coloraxis": {
           "colorbar": {
            "outlinewidth": 0,
            "ticks": ""
           }
          },
          "colorscale": {
           "diverging": [
            [
             0,
             "#8e0152"
            ],
            [
             0.1,
             "#c51b7d"
            ],
            [
             0.2,
             "#de77ae"
            ],
            [
             0.3,
             "#f1b6da"
            ],
            [
             0.4,
             "#fde0ef"
            ],
            [
             0.5,
             "#f7f7f7"
            ],
            [
             0.6,
             "#e6f5d0"
            ],
            [
             0.7,
             "#b8e186"
            ],
            [
             0.8,
             "#7fbc41"
            ],
            [
             0.9,
             "#4d9221"
            ],
            [
             1,
             "#276419"
            ]
           ],
           "sequential": [
            [
             0,
             "#0d0887"
            ],
            [
             0.1111111111111111,
             "#46039f"
            ],
            [
             0.2222222222222222,
             "#7201a8"
            ],
            [
             0.3333333333333333,
             "#9c179e"
            ],
            [
             0.4444444444444444,
             "#bd3786"
            ],
            [
             0.5555555555555556,
             "#d8576b"
            ],
            [
             0.6666666666666666,
             "#ed7953"
            ],
            [
             0.7777777777777778,
             "#fb9f3a"
            ],
            [
             0.8888888888888888,
             "#fdca26"
            ],
            [
             1,
             "#f0f921"
            ]
           ],
           "sequentialminus": [
            [
             0,
             "#0d0887"
            ],
            [
             0.1111111111111111,
             "#46039f"
            ],
            [
             0.2222222222222222,
             "#7201a8"
            ],
            [
             0.3333333333333333,
             "#9c179e"
            ],
            [
             0.4444444444444444,
             "#bd3786"
            ],
            [
             0.5555555555555556,
             "#d8576b"
            ],
            [
             0.6666666666666666,
             "#ed7953"
            ],
            [
             0.7777777777777778,
             "#fb9f3a"
            ],
            [
             0.8888888888888888,
             "#fdca26"
            ],
            [
             1,
             "#f0f921"
            ]
           ]
          },
          "colorway": [
           "#636efa",
           "#EF553B",
           "#00cc96",
           "#ab63fa",
           "#FFA15A",
           "#19d3f3",
           "#FF6692",
           "#B6E880",
           "#FF97FF",
           "#FECB52"
          ],
          "font": {
           "color": "#2a3f5f"
          },
          "geo": {
           "bgcolor": "white",
           "lakecolor": "white",
           "landcolor": "#E5ECF6",
           "showlakes": true,
           "showland": true,
           "subunitcolor": "white"
          },
          "hoverlabel": {
           "align": "left"
          },
          "hovermode": "closest",
          "mapbox": {
           "style": "light"
          },
          "paper_bgcolor": "white",
          "plot_bgcolor": "#E5ECF6",
          "polar": {
           "angularaxis": {
            "gridcolor": "white",
            "linecolor": "white",
            "ticks": ""
           },
           "bgcolor": "#E5ECF6",
           "radialaxis": {
            "gridcolor": "white",
            "linecolor": "white",
            "ticks": ""
           }
          },
          "scene": {
           "xaxis": {
            "backgroundcolor": "#E5ECF6",
            "gridcolor": "white",
            "gridwidth": 2,
            "linecolor": "white",
            "showbackground": true,
            "ticks": "",
            "zerolinecolor": "white"
           },
           "yaxis": {
            "backgroundcolor": "#E5ECF6",
            "gridcolor": "white",
            "gridwidth": 2,
            "linecolor": "white",
            "showbackground": true,
            "ticks": "",
            "zerolinecolor": "white"
           },
           "zaxis": {
            "backgroundcolor": "#E5ECF6",
            "gridcolor": "white",
            "gridwidth": 2,
            "linecolor": "white",
            "showbackground": true,
            "ticks": "",
            "zerolinecolor": "white"
           }
          },
          "shapedefaults": {
           "line": {
            "color": "#2a3f5f"
           }
          },
          "ternary": {
           "aaxis": {
            "gridcolor": "white",
            "linecolor": "white",
            "ticks": ""
           },
           "baxis": {
            "gridcolor": "white",
            "linecolor": "white",
            "ticks": ""
           },
           "bgcolor": "#E5ECF6",
           "caxis": {
            "gridcolor": "white",
            "linecolor": "white",
            "ticks": ""
           }
          },
          "title": {
           "x": 0.05
          },
          "xaxis": {
           "automargin": true,
           "gridcolor": "white",
           "linecolor": "white",
           "ticks": "",
           "title": {
            "standoff": 15
           },
           "zerolinecolor": "white",
           "zerolinewidth": 2
          },
          "yaxis": {
           "automargin": true,
           "gridcolor": "white",
           "linecolor": "white",
           "ticks": "",
           "title": {
            "standoff": 15
           },
           "zerolinecolor": "white",
           "zerolinewidth": 2
          }
         }
        },
        "title": {
         "text": "Compare last 15 days vs next 15 days"
        },
        "xaxis": {
         "anchor": "y",
         "domain": [
          0,
          1
         ],
         "showgrid": false,
         "title": {
          "text": "Timestamp"
         }
        },
        "yaxis": {
         "anchor": "x",
         "domain": [
          0,
          1
         ],
         "showgrid": false,
         "title": {
          "text": "Stock price"
         }
        }
       }
      },
      "text/html": [
       "<div>                            <div id=\"8684f21e-7941-4d20-920c-5e12617cc12a\" class=\"plotly-graph-div\" style=\"height:525px; width:100%;\"></div>            <script type=\"text/javascript\">                require([\"plotly\"], function(Plotly) {                    window.PLOTLYENV=window.PLOTLYENV || {};                                    if (document.getElementById(\"8684f21e-7941-4d20-920c-5e12617cc12a\")) {                    Plotly.newPlot(                        \"8684f21e-7941-4d20-920c-5e12617cc12a\",                        [{\"hovertemplate\":\"variable=last_original_days_value<br>Timestamp=%{x}<br>Stock price=%{y}<extra></extra>\",\"legendgroup\":\"last_original_days_value\",\"line\":{\"color\":\"#636efa\",\"dash\":\"solid\"},\"marker\":{\"symbol\":\"circle\"},\"mode\":\"lines\",\"name\":\"Last 15 days close price\",\"orientation\":\"v\",\"showlegend\":true,\"x\":[0,1,2,3,4,5,6,7,8,9,10,11,12,13,14,15,16,17,18,19,20,21,22,23,24,25,26,27,28,29,30],\"xaxis\":\"x\",\"y\":[17.440001,17.440001,17.440001,17.440001,17.440001,16.77,16.77,16.77,17.02,16.049999,15.39,15.39,16.84,16.84,16.84,null,16.88786498308182,17.02367896437645,17.056347084045413,16.94594454467297,16.940333595871927,17.03885167837143,17.050895640254023,16.989167201519013,16.9484416782856,16.953367662429812,16.911225265264513,16.852631980180742,16.86299287080765,16.85631499886513,16.843632483482363],\"yaxis\":\"y\",\"type\":\"scatter\"},{\"hovertemplate\":\"variable=next_predicted_days_value<br>Timestamp=%{x}<br>Stock price=%{y}<extra></extra>\",\"legendgroup\":\"next_predicted_days_value\",\"line\":{\"color\":\"#EF553B\",\"dash\":\"solid\"},\"marker\":{\"symbol\":\"circle\"},\"mode\":\"lines\",\"name\":\"Predicted next 15 days close price\",\"orientation\":\"v\",\"showlegend\":true,\"x\":[0,1,2,3,4,5,6,7,8,9,10,11,12,13,14,15,16,17,18,19,20,21,22,23,24,25,26,27,28,29,30],\"xaxis\":\"x\",\"y\":[17.440001,17.440001,17.440001,17.440001,17.440001,16.77,16.77,16.77,17.02,16.049999,15.39,15.39,16.84,16.84,16.84,null,16.88786498308182,17.02367896437645,17.056347084045413,16.94594454467297,16.940333595871927,17.03885167837143,17.050895640254023,16.989167201519013,16.9484416782856,16.953367662429812,16.911225265264513,16.852631980180742,16.86299287080765,16.85631499886513,16.843632483482363],\"yaxis\":\"y\",\"type\":\"scatter\"}],                        {\"template\":{\"data\":{\"bar\":[{\"error_x\":{\"color\":\"#2a3f5f\"},\"error_y\":{\"color\":\"#2a3f5f\"},\"marker\":{\"line\":{\"color\":\"#E5ECF6\",\"width\":0.5},\"pattern\":{\"fillmode\":\"overlay\",\"size\":10,\"solidity\":0.2}},\"type\":\"bar\"}],\"barpolar\":[{\"marker\":{\"line\":{\"color\":\"#E5ECF6\",\"width\":0.5},\"pattern\":{\"fillmode\":\"overlay\",\"size\":10,\"solidity\":0.2}},\"type\":\"barpolar\"}],\"carpet\":[{\"aaxis\":{\"endlinecolor\":\"#2a3f5f\",\"gridcolor\":\"white\",\"linecolor\":\"white\",\"minorgridcolor\":\"white\",\"startlinecolor\":\"#2a3f5f\"},\"baxis\":{\"endlinecolor\":\"#2a3f5f\",\"gridcolor\":\"white\",\"linecolor\":\"white\",\"minorgridcolor\":\"white\",\"startlinecolor\":\"#2a3f5f\"},\"type\":\"carpet\"}],\"choropleth\":[{\"colorbar\":{\"outlinewidth\":0,\"ticks\":\"\"},\"type\":\"choropleth\"}],\"contour\":[{\"colorbar\":{\"outlinewidth\":0,\"ticks\":\"\"},\"colorscale\":[[0.0,\"#0d0887\"],[0.1111111111111111,\"#46039f\"],[0.2222222222222222,\"#7201a8\"],[0.3333333333333333,\"#9c179e\"],[0.4444444444444444,\"#bd3786\"],[0.5555555555555556,\"#d8576b\"],[0.6666666666666666,\"#ed7953\"],[0.7777777777777778,\"#fb9f3a\"],[0.8888888888888888,\"#fdca26\"],[1.0,\"#f0f921\"]],\"type\":\"contour\"}],\"contourcarpet\":[{\"colorbar\":{\"outlinewidth\":0,\"ticks\":\"\"},\"type\":\"contourcarpet\"}],\"heatmap\":[{\"colorbar\":{\"outlinewidth\":0,\"ticks\":\"\"},\"colorscale\":[[0.0,\"#0d0887\"],[0.1111111111111111,\"#46039f\"],[0.2222222222222222,\"#7201a8\"],[0.3333333333333333,\"#9c179e\"],[0.4444444444444444,\"#bd3786\"],[0.5555555555555556,\"#d8576b\"],[0.6666666666666666,\"#ed7953\"],[0.7777777777777778,\"#fb9f3a\"],[0.8888888888888888,\"#fdca26\"],[1.0,\"#f0f921\"]],\"type\":\"heatmap\"}],\"heatmapgl\":[{\"colorbar\":{\"outlinewidth\":0,\"ticks\":\"\"},\"colorscale\":[[0.0,\"#0d0887\"],[0.1111111111111111,\"#46039f\"],[0.2222222222222222,\"#7201a8\"],[0.3333333333333333,\"#9c179e\"],[0.4444444444444444,\"#bd3786\"],[0.5555555555555556,\"#d8576b\"],[0.6666666666666666,\"#ed7953\"],[0.7777777777777778,\"#fb9f3a\"],[0.8888888888888888,\"#fdca26\"],[1.0,\"#f0f921\"]],\"type\":\"heatmapgl\"}],\"histogram\":[{\"marker\":{\"pattern\":{\"fillmode\":\"overlay\",\"size\":10,\"solidity\":0.2}},\"type\":\"histogram\"}],\"histogram2d\":[{\"colorbar\":{\"outlinewidth\":0,\"ticks\":\"\"},\"colorscale\":[[0.0,\"#0d0887\"],[0.1111111111111111,\"#46039f\"],[0.2222222222222222,\"#7201a8\"],[0.3333333333333333,\"#9c179e\"],[0.4444444444444444,\"#bd3786\"],[0.5555555555555556,\"#d8576b\"],[0.6666666666666666,\"#ed7953\"],[0.7777777777777778,\"#fb9f3a\"],[0.8888888888888888,\"#fdca26\"],[1.0,\"#f0f921\"]],\"type\":\"histogram2d\"}],\"histogram2dcontour\":[{\"colorbar\":{\"outlinewidth\":0,\"ticks\":\"\"},\"colorscale\":[[0.0,\"#0d0887\"],[0.1111111111111111,\"#46039f\"],[0.2222222222222222,\"#7201a8\"],[0.3333333333333333,\"#9c179e\"],[0.4444444444444444,\"#bd3786\"],[0.5555555555555556,\"#d8576b\"],[0.6666666666666666,\"#ed7953\"],[0.7777777777777778,\"#fb9f3a\"],[0.8888888888888888,\"#fdca26\"],[1.0,\"#f0f921\"]],\"type\":\"histogram2dcontour\"}],\"mesh3d\":[{\"colorbar\":{\"outlinewidth\":0,\"ticks\":\"\"},\"type\":\"mesh3d\"}],\"parcoords\":[{\"line\":{\"colorbar\":{\"outlinewidth\":0,\"ticks\":\"\"}},\"type\":\"parcoords\"}],\"pie\":[{\"automargin\":true,\"type\":\"pie\"}],\"scatter\":[{\"marker\":{\"colorbar\":{\"outlinewidth\":0,\"ticks\":\"\"}},\"type\":\"scatter\"}],\"scatter3d\":[{\"line\":{\"colorbar\":{\"outlinewidth\":0,\"ticks\":\"\"}},\"marker\":{\"colorbar\":{\"outlinewidth\":0,\"ticks\":\"\"}},\"type\":\"scatter3d\"}],\"scattercarpet\":[{\"marker\":{\"colorbar\":{\"outlinewidth\":0,\"ticks\":\"\"}},\"type\":\"scattercarpet\"}],\"scattergeo\":[{\"marker\":{\"colorbar\":{\"outlinewidth\":0,\"ticks\":\"\"}},\"type\":\"scattergeo\"}],\"scattergl\":[{\"marker\":{\"colorbar\":{\"outlinewidth\":0,\"ticks\":\"\"}},\"type\":\"scattergl\"}],\"scattermapbox\":[{\"marker\":{\"colorbar\":{\"outlinewidth\":0,\"ticks\":\"\"}},\"type\":\"scattermapbox\"}],\"scatterpolar\":[{\"marker\":{\"colorbar\":{\"outlinewidth\":0,\"ticks\":\"\"}},\"type\":\"scatterpolar\"}],\"scatterpolargl\":[{\"marker\":{\"colorbar\":{\"outlinewidth\":0,\"ticks\":\"\"}},\"type\":\"scatterpolargl\"}],\"scatterternary\":[{\"marker\":{\"colorbar\":{\"outlinewidth\":0,\"ticks\":\"\"}},\"type\":\"scatterternary\"}],\"surface\":[{\"colorbar\":{\"outlinewidth\":0,\"ticks\":\"\"},\"colorscale\":[[0.0,\"#0d0887\"],[0.1111111111111111,\"#46039f\"],[0.2222222222222222,\"#7201a8\"],[0.3333333333333333,\"#9c179e\"],[0.4444444444444444,\"#bd3786\"],[0.5555555555555556,\"#d8576b\"],[0.6666666666666666,\"#ed7953\"],[0.7777777777777778,\"#fb9f3a\"],[0.8888888888888888,\"#fdca26\"],[1.0,\"#f0f921\"]],\"type\":\"surface\"}],\"table\":[{\"cells\":{\"fill\":{\"color\":\"#EBF0F8\"},\"line\":{\"color\":\"white\"}},\"header\":{\"fill\":{\"color\":\"#C8D4E3\"},\"line\":{\"color\":\"white\"}},\"type\":\"table\"}]},\"layout\":{\"annotationdefaults\":{\"arrowcolor\":\"#2a3f5f\",\"arrowhead\":0,\"arrowwidth\":1},\"autotypenumbers\":\"strict\",\"coloraxis\":{\"colorbar\":{\"outlinewidth\":0,\"ticks\":\"\"}},\"colorscale\":{\"diverging\":[[0,\"#8e0152\"],[0.1,\"#c51b7d\"],[0.2,\"#de77ae\"],[0.3,\"#f1b6da\"],[0.4,\"#fde0ef\"],[0.5,\"#f7f7f7\"],[0.6,\"#e6f5d0\"],[0.7,\"#b8e186\"],[0.8,\"#7fbc41\"],[0.9,\"#4d9221\"],[1,\"#276419\"]],\"sequential\":[[0.0,\"#0d0887\"],[0.1111111111111111,\"#46039f\"],[0.2222222222222222,\"#7201a8\"],[0.3333333333333333,\"#9c179e\"],[0.4444444444444444,\"#bd3786\"],[0.5555555555555556,\"#d8576b\"],[0.6666666666666666,\"#ed7953\"],[0.7777777777777778,\"#fb9f3a\"],[0.8888888888888888,\"#fdca26\"],[1.0,\"#f0f921\"]],\"sequentialminus\":[[0.0,\"#0d0887\"],[0.1111111111111111,\"#46039f\"],[0.2222222222222222,\"#7201a8\"],[0.3333333333333333,\"#9c179e\"],[0.4444444444444444,\"#bd3786\"],[0.5555555555555556,\"#d8576b\"],[0.6666666666666666,\"#ed7953\"],[0.7777777777777778,\"#fb9f3a\"],[0.8888888888888888,\"#fdca26\"],[1.0,\"#f0f921\"]]},\"colorway\":[\"#636efa\",\"#EF553B\",\"#00cc96\",\"#ab63fa\",\"#FFA15A\",\"#19d3f3\",\"#FF6692\",\"#B6E880\",\"#FF97FF\",\"#FECB52\"],\"font\":{\"color\":\"#2a3f5f\"},\"geo\":{\"bgcolor\":\"white\",\"lakecolor\":\"white\",\"landcolor\":\"#E5ECF6\",\"showlakes\":true,\"showland\":true,\"subunitcolor\":\"white\"},\"hoverlabel\":{\"align\":\"left\"},\"hovermode\":\"closest\",\"mapbox\":{\"style\":\"light\"},\"paper_bgcolor\":\"white\",\"plot_bgcolor\":\"#E5ECF6\",\"polar\":{\"angularaxis\":{\"gridcolor\":\"white\",\"linecolor\":\"white\",\"ticks\":\"\"},\"bgcolor\":\"#E5ECF6\",\"radialaxis\":{\"gridcolor\":\"white\",\"linecolor\":\"white\",\"ticks\":\"\"}},\"scene\":{\"xaxis\":{\"backgroundcolor\":\"#E5ECF6\",\"gridcolor\":\"white\",\"gridwidth\":2,\"linecolor\":\"white\",\"showbackground\":true,\"ticks\":\"\",\"zerolinecolor\":\"white\"},\"yaxis\":{\"backgroundcolor\":\"#E5ECF6\",\"gridcolor\":\"white\",\"gridwidth\":2,\"linecolor\":\"white\",\"showbackground\":true,\"ticks\":\"\",\"zerolinecolor\":\"white\"},\"zaxis\":{\"backgroundcolor\":\"#E5ECF6\",\"gridcolor\":\"white\",\"gridwidth\":2,\"linecolor\":\"white\",\"showbackground\":true,\"ticks\":\"\",\"zerolinecolor\":\"white\"}},\"shapedefaults\":{\"line\":{\"color\":\"#2a3f5f\"}},\"ternary\":{\"aaxis\":{\"gridcolor\":\"white\",\"linecolor\":\"white\",\"ticks\":\"\"},\"baxis\":{\"gridcolor\":\"white\",\"linecolor\":\"white\",\"ticks\":\"\"},\"bgcolor\":\"#E5ECF6\",\"caxis\":{\"gridcolor\":\"white\",\"linecolor\":\"white\",\"ticks\":\"\"}},\"title\":{\"x\":0.05},\"xaxis\":{\"automargin\":true,\"gridcolor\":\"white\",\"linecolor\":\"white\",\"ticks\":\"\",\"title\":{\"standoff\":15},\"zerolinecolor\":\"white\",\"zerolinewidth\":2},\"yaxis\":{\"automargin\":true,\"gridcolor\":\"white\",\"linecolor\":\"white\",\"ticks\":\"\",\"title\":{\"standoff\":15},\"zerolinecolor\":\"white\",\"zerolinewidth\":2}}},\"xaxis\":{\"anchor\":\"y\",\"domain\":[0.0,1.0],\"title\":{\"text\":\"Timestamp\"},\"showgrid\":false},\"yaxis\":{\"anchor\":\"x\",\"domain\":[0.0,1.0],\"title\":{\"text\":\"Stock price\"},\"showgrid\":false},\"legend\":{\"title\":{\"text\":\"Close Price\"},\"tracegroupgap\":0},\"margin\":{\"t\":60},\"title\":{\"text\":\"Compare last 15 days vs next 15 days\"},\"font\":{\"size\":15,\"color\":\"black\"},\"plot_bgcolor\":\"white\"},                        {\"responsive\": true}                    ).then(function(){\n",
       "                            \n",
       "var gd = document.getElementById('8684f21e-7941-4d20-920c-5e12617cc12a');\n",
       "var x = new MutationObserver(function (mutations, observer) {{\n",
       "        var display = window.getComputedStyle(gd).display;\n",
       "        if (!display || display === 'none') {{\n",
       "            console.log([gd, 'removed!']);\n",
       "            Plotly.purge(gd);\n",
       "            observer.disconnect();\n",
       "        }}\n",
       "}});\n",
       "\n",
       "// Listen for the removal of the full notebook cells\n",
       "var notebookContainer = gd.closest('#notebook-container');\n",
       "if (notebookContainer) {{\n",
       "    x.observe(notebookContainer, {childList: true});\n",
       "}}\n",
       "\n",
       "// Listen for the clearing of the current output cell\n",
       "var outputEl = gd.closest('.output');\n",
       "if (outputEl) {{\n",
       "    x.observe(outputEl, {childList: true});\n",
       "}}\n",
       "\n",
       "                        })                };                });            </script>        </div>"
      ]
     },
     "metadata": {},
     "output_type": "display_data"
    }
   ],
   "source": [
    "# plotting the comparison of last days and next days\n",
    "import plotly.graph_objects as go\n",
    "import plotly.express as px\n",
    "from plotly.subplots import make_subplots\n",
    "temp_mat = np.empty((len(last_days)+pred_days+1,1))\n",
    "temp_mat[:] = np.nan\n",
    "temp_mat = temp_mat.reshape(1,-1).tolist()[0]\n",
    "\n",
    "last_original_days_value = temp_mat\n",
    "next_predicted_days_value = temp_mat\n",
    "\n",
    "last_original_days_value[0:time_step+1] = scaler.inverse_transform(data_set_close[len(data_set_close)-time_step:]).reshape(1,-1).tolist()[0]\n",
    "next_predicted_days_value[time_step+1:] = scaler.inverse_transform(np.array(lst_output).reshape(-1,1)).reshape(1,-1).tolist()[0]\n",
    "\n",
    "new_pred_plot = pd.DataFrame({\n",
    "    'last_original_days_value':last_original_days_value,\n",
    "    'next_predicted_days_value':next_predicted_days_value\n",
    "})\n",
    "\n",
    "names = cycle(['Last 15 days close price','Predicted next 15 days close price'])\n",
    "\n",
    "fig = px.line(new_pred_plot,x=new_pred_plot.index, y=[new_pred_plot['last_original_days_value'],\n",
    "                                                      new_pred_plot['next_predicted_days_value']],\n",
    "              labels={'value': 'Stock price','index': 'Timestamp'})\n",
    "fig.update_layout(title_text='Compare last 15 days vs next 15 days',\n",
    "                  plot_bgcolor='white', font_size=15, font_color='black',legend_title_text='Close Price')\n",
    "\n",
    "fig.for_each_trace(lambda t:  t.update(name = next(names)))\n",
    "fig.update_xaxes(showgrid=False)\n",
    "fig.update_yaxes(showgrid=False)\n",
    "fig.show()"
   ]
  },
  {
   "cell_type": "code",
   "execution_count": null,
   "id": "c6f0f166",
   "metadata": {},
   "outputs": [],
   "source": []
  }
 ],
 "metadata": {
  "kernelspec": {
   "display_name": "Python 3 (ipykernel)",
   "language": "python",
   "name": "python3"
  },
  "language_info": {
   "codemirror_mode": {
    "name": "ipython",
    "version": 3
   },
   "file_extension": ".py",
   "mimetype": "text/x-python",
   "name": "python",
   "nbconvert_exporter": "python",
   "pygments_lexer": "ipython3",
   "version": "3.10.6"
  }
 },
 "nbformat": 4,
 "nbformat_minor": 5
}
